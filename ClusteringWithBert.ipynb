{
 "cells": [
  {
   "cell_type": "code",
   "execution_count": 38,
   "id": "5f5c8879-d655-4920-8a2c-e22e487197f0",
   "metadata": {},
   "outputs": [],
   "source": [
    "import numpy as np\n",
    "import pandas as pd\n",
    "import re\n",
    "from transformers import BertModel, AutoTokenizer\n",
    "import torch\n",
    "import warnings"
   ]
  },
  {
   "cell_type": "code",
   "execution_count": 39,
   "id": "d66479a6-3638-46ee-a044-af385633308a",
   "metadata": {},
   "outputs": [],
   "source": [
    "warnings.filterwarnings(\"ignore\")"
   ]
  },
  {
   "cell_type": "code",
   "execution_count": 4,
   "id": "43d6a9c7-e95b-4cb2-80bf-a5d0f65d85b3",
   "metadata": {},
   "outputs": [
    {
     "data": {
      "application/vnd.jupyter.widget-view+json": {
       "model_id": "2c7c6db059e446bd89112855aaf8ee5b",
       "version_major": 2,
       "version_minor": 0
      },
      "text/plain": [
       "tokenizer_config.json:   0%|          | 0.00/401 [00:00<?, ?B/s]"
      ]
     },
     "metadata": {},
     "output_type": "display_data"
    },
    {
     "data": {
      "application/vnd.jupyter.widget-view+json": {
       "model_id": "f80200a4134e4cbdb3b53e7e99d9e023",
       "version_major": 2,
       "version_minor": 0
      },
      "text/plain": [
       "vocab.txt:   0%|          | 0.00/1.08M [00:00<?, ?B/s]"
      ]
     },
     "metadata": {},
     "output_type": "display_data"
    },
    {
     "data": {
      "application/vnd.jupyter.widget-view+json": {
       "model_id": "1b80fda8dd0c4e2db33a197ef168b19e",
       "version_major": 2,
       "version_minor": 0
      },
      "text/plain": [
       "tokenizer.json:   0%|          | 0.00/1.74M [00:00<?, ?B/s]"
      ]
     },
     "metadata": {},
     "output_type": "display_data"
    },
    {
     "data": {
      "application/vnd.jupyter.widget-view+json": {
       "model_id": "7a8f1ba0f574412ebbf8f0621a8befe1",
       "version_major": 2,
       "version_minor": 0
      },
      "text/plain": [
       "special_tokens_map.json:   0%|          | 0.00/112 [00:00<?, ?B/s]"
      ]
     },
     "metadata": {},
     "output_type": "display_data"
    },
    {
     "data": {
      "application/vnd.jupyter.widget-view+json": {
       "model_id": "2da4793eb10148dcafb2c2bbce2bff6e",
       "version_major": 2,
       "version_minor": 0
      },
      "text/plain": [
       "config.json:   0%|          | 0.00/693 [00:00<?, ?B/s]"
      ]
     },
     "metadata": {},
     "output_type": "display_data"
    },
    {
     "data": {
      "application/vnd.jupyter.widget-view+json": {
       "model_id": "ae8df14893ca49379b4837ebcac7a866",
       "version_major": 2,
       "version_minor": 0
      },
      "text/plain": [
       "model.safetensors:   0%|          | 0.00/118M [00:00<?, ?B/s]"
      ]
     },
     "metadata": {},
     "output_type": "display_data"
    }
   ],
   "source": [
    "tokenizer = AutoTokenizer.from_pretrained(\"cointegrated/rubert-tiny2\")\n",
    "model = BertModel.from_pretrained(\"cointegrated/rubert-tiny2\")"
   ]
  },
  {
   "cell_type": "code",
   "execution_count": 28,
   "id": "ae380a07-ac51-4f46-af83-a0c7c31522e2",
   "metadata": {},
   "outputs": [],
   "source": [
    "def embed_bert_cls(text, model, tokenizer):\n",
    "    t = tokenizer(text, padding=True, truncation=True, return_tensors='pt')\n",
    "    with torch.no_grad():\n",
    "        model_output = model(**{k: v.to(model.device) for k, v in t.items()})\n",
    "    embeddings = model_output.last_hidden_state[:, 0, :]\n",
    "    embeddings = torch.nn.functional.normalize(embeddings)\n",
    "    return embeddings[0].cpu().numpy()"
   ]
  },
  {
   "cell_type": "code",
   "execution_count": 29,
   "id": "fcb94a2e-6990-491f-a0ce-b1577f25f250",
   "metadata": {},
   "outputs": [],
   "source": [
    "texts = [\"Измерение косинусного подобия\", \n",
    "         \"Кластеризация на основе значений косинусного расстояния\", \n",
    "         \"K-среднее значение с косинусным расстоянием\", \n",
    "         \"В Лондоне передумали объявлять России новую холодную войну\", \n",
    "         \"Борис Джонсон: Запад не находится в состоянии новой холодной войны с РФ\",\n",
    "         \"В британском МИД заявили, что Запад не хочет новой холодной войны с Россией\"\n",
    "        ]"
   ]
  },
  {
   "cell_type": "code",
   "execution_count": 60,
   "id": "54918f14-dbc7-417b-8c94-acf1d2dc25e0",
   "metadata": {},
   "outputs": [],
   "source": [
    "def norm_text(text):\n",
    "    new_text = \"\".join([x for x in text.lower() if x.isalpha() or x==\" \"])\n",
    "    return new_text"
   ]
  },
  {
   "cell_type": "code",
   "execution_count": 63,
   "id": "157720d6-c159-467f-94ec-ea16854d6cad",
   "metadata": {},
   "outputs": [],
   "source": [
    "texts_norm = list(map(norm_text, texts))"
   ]
  },
  {
   "cell_type": "code",
   "execution_count": 76,
   "id": "81765c20-e37c-4da5-ae99-90d7f696ed24",
   "metadata": {},
   "outputs": [],
   "source": [
    "texts_lower = list(map(lambda x: x.lower(), texts))"
   ]
  },
  {
   "cell_type": "code",
   "execution_count": 30,
   "id": "513bc483-1b5b-44cc-9402-bd4fbde18112",
   "metadata": {},
   "outputs": [],
   "source": [
    "embeddings = [embed_bert_cls(txt, model, tokenizer) for txt in texts]"
   ]
  },
  {
   "cell_type": "code",
   "execution_count": 65,
   "id": "dee07b13-c92a-4b6e-8201-84a95ed8e877",
   "metadata": {},
   "outputs": [],
   "source": [
    "norm_emb = [embed_bert_cls(txt, model, tokenizer) for txt in texts_norm]"
   ]
  },
  {
   "cell_type": "code",
   "execution_count": 77,
   "id": "dbec51a6-97a0-484f-a30b-dc94bec9bc70",
   "metadata": {},
   "outputs": [],
   "source": [
    "lower_emb = [embed_bert_cls(txt, model, tokenizer) for txt in texts_lower]"
   ]
  },
  {
   "cell_type": "code",
   "execution_count": 31,
   "id": "96a175b1-b59a-497e-bff5-8abb85afad36",
   "metadata": {},
   "outputs": [],
   "source": [
    "def cos_sim(x,y):\n",
    "    delta = x - y\n",
    "    cos_sim = np.dot(x,y) / (np.linalg.norm(x) * np.linalg.norm(y))\n",
    "    return cos_sim"
   ]
  },
  {
   "cell_type": "code",
   "execution_count": 78,
   "id": "31ad30dd-db19-434c-ba30-77da63b6ed47",
   "metadata": {},
   "outputs": [
    {
     "name": "stdout",
     "output_type": "stream",
     "text": [
      "0.43541726\n",
      "0.40410042\n",
      "0.47023407\n",
      "0.7917399\n",
      "0.7915406\n",
      "1.0000001\n"
     ]
    }
   ],
   "source": [
    "for emb in lower_emb[:]:\n",
    "    print(cos_sim(lower_emb[-1], emb))"
   ]
  },
  {
   "cell_type": "code",
   "execution_count": 79,
   "id": "2297f4fb-2c87-4847-8d7b-5cde0450ff1a",
   "metadata": {},
   "outputs": [],
   "source": [
    "from sklearn.cluster import KMeans"
   ]
  },
  {
   "cell_type": "code",
   "execution_count": 88,
   "id": "f996aa10-3717-435e-bebd-67ce9a35849f",
   "metadata": {},
   "outputs": [],
   "source": [
    "inertia, sil = [], []\n",
    "for i in range(2,5):\n",
    "    tmp_kmeans = KMeans(n_clusters=i)\n",
    "    tmp_kmeans.fit(lower_emb)\n",
    "    tmp_labels = tmp_kmeans.predict(lower_emb)\n",
    "    sil.append(silhouette_score(lower_emb, tmp_labels, metric=\"cosine\"))\n",
    "    inertia.append(tmp_kmeans.inertia_)"
   ]
  },
  {
   "cell_type": "code",
   "execution_count": 89,
   "id": "4cbdd0df-54ca-4cfc-8919-1a485b28e324",
   "metadata": {},
   "outputs": [
    {
     "data": {
      "text/plain": [
       "[0.9022842597957828, 0.6243528187591632, 0.4023459141492939]"
      ]
     },
     "execution_count": 89,
     "metadata": {},
     "output_type": "execute_result"
    }
   ],
   "source": [
    "inertia"
   ]
  },
  {
   "cell_type": "code",
   "execution_count": 90,
   "id": "2863bd76-f75d-4ab1-84d3-768d3d1732b7",
   "metadata": {},
   "outputs": [
    {
     "data": {
      "text/plain": [
       "[0.5837504, 0.3468697, 0.08748483]"
      ]
     },
     "execution_count": 90,
     "metadata": {},
     "output_type": "execute_result"
    }
   ],
   "source": [
    "sil"
   ]
  },
  {
   "cell_type": "code",
   "execution_count": 70,
   "id": "c7afdf1b-6250-44db-8289-83249f2fcadd",
   "metadata": {},
   "outputs": [],
   "source": [
    "from sklearn.metrics import silhouette_score"
   ]
  },
  {
   "cell_type": "code",
   "execution_count": 74,
   "id": "741a86f8-31b7-4520-8d25-2be96a9c3c0c",
   "metadata": {},
   "outputs": [],
   "source": [
    "kmeans = KMeans(n_clusters=3)\n",
    "y_labels = kmeans.fit_predict(embeddings)"
   ]
  },
  {
   "cell_type": "code",
   "execution_count": 75,
   "id": "2077e30c-2e0f-43e2-8319-35c428845eb7",
   "metadata": {},
   "outputs": [
    {
     "data": {
      "text/plain": [
       "array([1, 1, 1, 0, 2, 2], dtype=int32)"
      ]
     },
     "execution_count": 75,
     "metadata": {},
     "output_type": "execute_result"
    }
   ],
   "source": [
    "y_labels"
   ]
  },
  {
   "cell_type": "code",
   "execution_count": 73,
   "id": "e5402903-ba4b-4599-bdf6-3245a6dfe3fd",
   "metadata": {},
   "outputs": [
    {
     "data": {
      "text/plain": [
       "0.6301982"
      ]
     },
     "execution_count": 73,
     "metadata": {},
     "output_type": "execute_result"
    }
   ],
   "source": [
    "silhouette_score(embeddings, y_labels, metric=\"cosine\")"
   ]
  }
 ],
 "metadata": {
  "kernelspec": {
   "display_name": "Python 3 (ipykernel)",
   "language": "python",
   "name": "python3"
  },
  "language_info": {
   "codemirror_mode": {
    "name": "ipython",
    "version": 3
   },
   "file_extension": ".py",
   "mimetype": "text/x-python",
   "name": "python",
   "nbconvert_exporter": "python",
   "pygments_lexer": "ipython3",
   "version": "3.8.10"
  }
 },
 "nbformat": 4,
 "nbformat_minor": 5
}
