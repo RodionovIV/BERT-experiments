{
 "cells": [
  {
   "cell_type": "code",
   "execution_count": 1,
   "id": "940e0002",
   "metadata": {},
   "outputs": [],
   "source": [
    "import os\n",
    "import re\n",
    "import pandas as pd\n",
    "import numpy as np\n",
    "import matplotlib.pyplot as plt\n",
    "import seaborn as sns\n",
    "import torch\n",
    "import transformers as ppb\n",
    "from sklearn.model_selection import train_test_split\n",
    "from sklearn.linear_model import LogisticRegression\n",
    "from sklearn.model_selection import cross_val_score\n",
    "import warnings\n",
    "import pickle\n",
    "\n",
    "from sklearn.base import BaseEstimator\n",
    "from sklearn.metrics import roc_auc_score, roc_curve, accuracy_score, confusion_matrix\n",
    "\n",
    "warnings.filterwarnings('ignore')"
   ]
  },
  {
   "cell_type": "code",
   "execution_count": 2,
   "id": "c483ee32",
   "metadata": {},
   "outputs": [],
   "source": [
    "def save_pickle(obj, filename):\n",
    "    with open(f\"{filename}.pkl\", mode=\"wb\") as f:\n",
    "        pickle.dump(obj, f)\n",
    "\n",
    "def load_pickle(filename):\n",
    "    with open(f\"{filename}.pkl\", mode=\"rb\") as f:\n",
    "        obj = pickle.load(f)\n",
    "        return obj\n",
    "\n",
    "test_obj = [1,2,3]\n",
    "test_filename=\"test\"\n",
    "try:\n",
    "    save_pickle(test_obj, test_filename)\n",
    "    test_load = load_pickle(test_filename)\n",
    "    assert test_obj==test_load, \"TEST\"\n",
    "except Exception as err:\n",
    "    print(err)"
   ]
  },
  {
   "cell_type": "code",
   "execution_count": 3,
   "id": "96ebbde7",
   "metadata": {},
   "outputs": [
    {
     "name": "stdout",
     "output_type": "stream",
     "text": [
      "Thu Jul 13 23:43:34 2023       \r\n",
      "+-----------------------------------------------------------------------------+\r\n",
      "| NVIDIA-SMI 510.108.03   Driver Version: 510.108.03   CUDA Version: 11.6     |\r\n",
      "|-------------------------------+----------------------+----------------------+\r\n",
      "| GPU  Name        Persistence-M| Bus-Id        Disp.A | Volatile Uncorr. ECC |\r\n",
      "| Fan  Temp  Perf  Pwr:Usage/Cap|         Memory-Usage | GPU-Util  Compute M. |\r\n",
      "|                               |                      |               MIG M. |\r\n",
      "|===============================+======================+======================|\r\n",
      "|   0  NVIDIA GeForce ...  Off  | 00000000:01:00.0  On |                  N/A |\r\n",
      "|  0%   42C    P8    22W / 170W |    919MiB / 12288MiB |     13%      Default |\r\n",
      "|                               |                      |                  N/A |\r\n",
      "+-------------------------------+----------------------+----------------------+\r\n",
      "                                                                               \r\n",
      "+-----------------------------------------------------------------------------+\r\n",
      "| Processes:                                                                  |\r\n",
      "|  GPU   GI   CI        PID   Type   Process name                  GPU Memory |\r\n",
      "|        ID   ID                                                   Usage      |\r\n",
      "|=============================================================================|\r\n",
      "|    0   N/A  N/A      1039      G   /usr/lib/xorg/Xorg                 53MiB |\r\n",
      "|    0   N/A  N/A      1618      G   /usr/lib/xorg/Xorg                226MiB |\r\n",
      "|    0   N/A  N/A      1748      G   /usr/bin/gnome-shell              181MiB |\r\n",
      "|    0   N/A  N/A      2841      G   /usr/lib/firefox/firefox          144MiB |\r\n",
      "|    0   N/A  N/A      3285      G   ...085397970277121720,131072      302MiB |\r\n",
      "+-----------------------------------------------------------------------------+\r\n"
     ]
    }
   ],
   "source": [
    "! nvidia-smi"
   ]
  },
  {
   "cell_type": "code",
   "execution_count": 20,
   "id": "11aea4d7",
   "metadata": {},
   "outputs": [
    {
     "data": {
      "text/plain": [
       "(6920, 2)"
      ]
     },
     "execution_count": 20,
     "metadata": {},
     "output_type": "execute_result"
    }
   ],
   "source": [
    "df = pd.read_csv(\n",
    "    'STT2.tsv',\n",
    "    delimiter='\\t',\n",
    "    header=None\n",
    ").rename(columns={0:\"text\", 1:\"target\"})\n",
    "df.shape"
   ]
  },
  {
   "cell_type": "code",
   "execution_count": 21,
   "id": "7b37826b",
   "metadata": {},
   "outputs": [
    {
     "data": {
      "text/html": [
       "<div>\n",
       "<style scoped>\n",
       "    .dataframe tbody tr th:only-of-type {\n",
       "        vertical-align: middle;\n",
       "    }\n",
       "\n",
       "    .dataframe tbody tr th {\n",
       "        vertical-align: top;\n",
       "    }\n",
       "\n",
       "    .dataframe thead th {\n",
       "        text-align: right;\n",
       "    }\n",
       "</style>\n",
       "<table border=\"1\" class=\"dataframe\">\n",
       "  <thead>\n",
       "    <tr style=\"text-align: right;\">\n",
       "      <th></th>\n",
       "      <th>text</th>\n",
       "      <th>target</th>\n",
       "    </tr>\n",
       "  </thead>\n",
       "  <tbody>\n",
       "    <tr>\n",
       "      <th>0</th>\n",
       "      <td>a stirring , funny and finally transporting re...</td>\n",
       "      <td>1</td>\n",
       "    </tr>\n",
       "    <tr>\n",
       "      <th>1</th>\n",
       "      <td>apparently reassembled from the cutting room f...</td>\n",
       "      <td>0</td>\n",
       "    </tr>\n",
       "    <tr>\n",
       "      <th>2</th>\n",
       "      <td>they presume their audience wo n't sit still f...</td>\n",
       "      <td>0</td>\n",
       "    </tr>\n",
       "    <tr>\n",
       "      <th>3</th>\n",
       "      <td>this is a visually stunning rumination on love...</td>\n",
       "      <td>1</td>\n",
       "    </tr>\n",
       "    <tr>\n",
       "      <th>4</th>\n",
       "      <td>jonathan parker 's bartleby should have been t...</td>\n",
       "      <td>1</td>\n",
       "    </tr>\n",
       "  </tbody>\n",
       "</table>\n",
       "</div>"
      ],
      "text/plain": [
       "                                                text  target\n",
       "0  a stirring , funny and finally transporting re...       1\n",
       "1  apparently reassembled from the cutting room f...       0\n",
       "2  they presume their audience wo n't sit still f...       0\n",
       "3  this is a visually stunning rumination on love...       1\n",
       "4  jonathan parker 's bartleby should have been t...       1"
      ]
     },
     "execution_count": 21,
     "metadata": {},
     "output_type": "execute_result"
    }
   ],
   "source": [
    "df.head()"
   ]
  },
  {
   "cell_type": "code",
   "execution_count": 33,
   "id": "0738839b",
   "metadata": {},
   "outputs": [],
   "source": [
    "tmp_df=df.copy()"
   ]
  },
  {
   "cell_type": "code",
   "execution_count": 34,
   "id": "0740b676",
   "metadata": {},
   "outputs": [],
   "source": [
    "true_df=df[df.target==1]\n",
    "false_df=df[df.target==0].iloc[:500]"
   ]
  },
  {
   "cell_type": "code",
   "execution_count": 36,
   "id": "7e8cb238",
   "metadata": {},
   "outputs": [],
   "source": [
    "df=pd.concat([true_df, false_df])"
   ]
  },
  {
   "cell_type": "code",
   "execution_count": 6,
   "id": "e08a7431",
   "metadata": {},
   "outputs": [
    {
     "data": {
      "text/plain": [
       "target\n",
       "1    3610\n",
       "0    3310\n",
       "Name: count, dtype: int64"
      ]
     },
     "execution_count": 6,
     "metadata": {},
     "output_type": "execute_result"
    }
   ],
   "source": [
    "df.target.value_counts()"
   ]
  },
  {
   "cell_type": "code",
   "execution_count": 33,
   "id": "b90c5ce1",
   "metadata": {},
   "outputs": [],
   "source": [
    "train_df, test_df = train_test_split(df, stratify=df.target, random_state=42, test_size=.2)"
   ]
  },
  {
   "cell_type": "markdown",
   "id": "e3a0603c",
   "metadata": {},
   "source": [
    "# Baseline"
   ]
  },
  {
   "cell_type": "code",
   "execution_count": 11,
   "id": "8f2c584e",
   "metadata": {},
   "outputs": [],
   "source": [
    "model_class, tokenizer_class, pretrained_weights = (\n",
    "    ppb.DistilBertModel,\n",
    "    ppb.DistilBertTokenizer,\n",
    "    'distilbert-base-uncased'\n",
    ")"
   ]
  },
  {
   "cell_type": "code",
   "execution_count": 12,
   "id": "6900727f",
   "metadata": {},
   "outputs": [
    {
     "name": "stderr",
     "output_type": "stream",
     "text": [
      "Some weights of the model checkpoint at distilbert-base-uncased were not used when initializing DistilBertModel: ['vocab_layer_norm.bias', 'vocab_layer_norm.weight', 'vocab_transform.weight', 'vocab_projector.bias', 'vocab_transform.bias']\n",
      "- This IS expected if you are initializing DistilBertModel from the checkpoint of a model trained on another task or with another architecture (e.g. initializing a BertForSequenceClassification model from a BertForPreTraining model).\n",
      "- This IS NOT expected if you are initializing DistilBertModel from the checkpoint of a model that you expect to be exactly identical (initializing a BertForSequenceClassification model from a BertForSequenceClassification model).\n"
     ]
    }
   ],
   "source": [
    "tokenizer = tokenizer_class.from_pretrained(pretrained_weights)\n",
    "bert_model = model_class.from_pretrained(pretrained_weights)"
   ]
  },
  {
   "cell_type": "code",
   "execution_count": 9,
   "id": "930947f6",
   "metadata": {},
   "outputs": [
    {
     "name": "stdout",
     "output_type": "stream",
     "text": [
      "cuda\n"
     ]
    }
   ],
   "source": [
    "device = \"cuda\" if torch.cuda.is_available() else \"cpu\"\n",
    "print(device)"
   ]
  },
  {
   "cell_type": "code",
   "execution_count": 65,
   "id": "b4665dfd",
   "metadata": {},
   "outputs": [],
   "source": [
    "class BertClassifier(torch.nn.Module):\n",
    "    def __init__(self, n_classes=2):\n",
    "        super().__init__()\n",
    "        self.bert = bert_model\n",
    "        self.l1 = torch.nn.Linear(768, n_classes)\n",
    "    def forward(self, input_ids, attention_mask):\n",
    "        embeddings = self.bert(input_ids, attention_mask=attention_mask)[\"last_hidden_state\"][:,0,:]\n",
    "        logits = self.l1(embeddings)\n",
    "        return logits"
   ]
  },
  {
   "cell_type": "code",
   "execution_count": 66,
   "id": "3a34e4ed",
   "metadata": {},
   "outputs": [],
   "source": [
    "model = BertClassifier().to(device)\n",
    "criteria = torch.nn.CrossEntropyLoss()\n",
    "opt = torch.optim.AdamW(model.parameters(), lr=1e-6)\n",
    "softmax = torch.nn.Softmax(dim=1)"
   ]
  },
  {
   "cell_type": "code",
   "execution_count": 67,
   "id": "52fd3bb3",
   "metadata": {},
   "outputs": [],
   "source": [
    "n_epochs = 10"
   ]
  },
  {
   "cell_type": "code",
   "execution_count": 85,
   "id": "4b2dce56",
   "metadata": {},
   "outputs": [
    {
     "name": "stdout",
     "output_type": "stream",
     "text": [
      "Loss: 0.676143833275499 AUC: 0.6378981340644901\n",
      "Loss: 0.6555134816603227 AUC: 0.7753962641537857\n",
      "Loss: 0.6274776794444555 AUC: 0.7991698904101564\n",
      "Loss: 0.5837294676087119 AUC: 0.853771413746642\n",
      "Loss: 0.5160065461164234 AUC: 0.8744958433061905\n",
      "Loss: 0.4419590871442448 AUC: 0.9042919550426392\n",
      "Loss: 0.4029780201528264 AUC: 0.910547525545857\n",
      "Loss: 0.370471019636501 AUC: 0.9227975328685841\n",
      "Loss: 0.35186436532557697 AUC: 0.9274594948573534\n",
      "Loss: 0.33917814222249115 AUC: 0.9318923600940656\n",
      "Loss: 0.3190363859650732 AUC: 0.9396684426023717\n",
      "Loss: 0.3212597905234857 AUC: 0.9373425613644544\n",
      "Loss: 0.29686379629647597 AUC: 0.9472559648843846\n",
      "Loss: 0.31130354648286646 AUC: 0.9403950925174281\n",
      "Loss: 0.28076639531672687 AUC: 0.9525151214317397\n",
      "Loss: 0.3062629848718643 AUC: 0.9425709886100208\n",
      "Loss: 0.26454226732596586 AUC: 0.9577707473784637\n",
      "Loss: 0.3014744852076877 AUC: 0.9440125197713636\n",
      "Loss: 0.24972727732069191 AUC: 0.9623738660233824\n",
      "Loss: 0.29785674742676993 AUC: 0.9453222418424818\n"
     ]
    }
   ],
   "source": [
    "for epoch in range(n_epochs):\n",
    "    model.train()\n",
    "    losses, labels, probas = [], [], []\n",
    "    for batch in train_dataloader:\n",
    "        input_ids, attention_mask, label = batch\n",
    "        input_ids = input_ids.to(device)\n",
    "        attention_mask=attention_mask.to(device)\n",
    "        label = label[0].to(device)\n",
    "        logits=model(input_ids, attention_mask=attention_mask)\n",
    "        loss = criteria(logits, label)\n",
    "        opt.zero_grad()\n",
    "        loss.backward()\n",
    "        opt.step()\n",
    "        \n",
    "        losses += [loss.item()]\n",
    "        proba = softmax(logits)[:,1].tolist()\n",
    "        labels += label.tolist()\n",
    "        probas += proba\n",
    "    \n",
    "    train_roc = roc_auc_score(labels, probas)\n",
    "    train_loss_mean = np.mean(losses)\n",
    "    print(f\"Loss: {train_loss_mean} AUC: {train_roc}\")\n",
    "        \n",
    "    model.eval()\n",
    "    with torch.no_grad():\n",
    "        losses, labels, probas = [], [], []\n",
    "        for batch in test_dataloader:\n",
    "            input_ids, attention_mask, label = batch\n",
    "            input_ids = input_ids.to(device)\n",
    "            attention_mask=attention_mask.to(device)\n",
    "            label = label[0].to(device)\n",
    "            logits=model(input_ids, attention_mask=attention_mask)\n",
    "            loss = criteria(logits, label)\n",
    "            proba = softmax(logits)[:,1].tolist()\n",
    "            labels += label.tolist()\n",
    "            probas += proba\n",
    "            losses += [loss.item()]\n",
    "        test_roc = roc_auc_score(labels, probas)\n",
    "        test_loss_mean = np.mean(losses)\n",
    "        print(f\"Loss: {test_loss_mean} AUC: {test_roc}\")"
   ]
  },
  {
   "cell_type": "code",
   "execution_count": 22,
   "id": "68c76d5d",
   "metadata": {},
   "outputs": [
    {
     "data": {
      "text/plain": [
       "'a stirring , funny and finally transporting re imagining of beauty and the beast and 1930s horror films'"
      ]
     },
     "execution_count": 22,
     "metadata": {},
     "output_type": "execute_result"
    }
   ],
   "source": [
    "test=df.text.iloc[0]\n",
    "test"
   ]
  },
  {
   "cell_type": "code",
   "execution_count": 23,
   "id": "a09165ed",
   "metadata": {},
   "outputs": [
    {
     "data": {
      "text/plain": [
       "{'input_ids': [101, 1037, 18385, 1010, 6057, 1998, 2633, 18276, 2128, 16603, 1997, 5053, 1998, 1996, 6841, 1998, 5687, 5469, 3152, 102], 'attention_mask': [1, 1, 1, 1, 1, 1, 1, 1, 1, 1, 1, 1, 1, 1, 1, 1, 1, 1, 1, 1]}"
      ]
     },
     "execution_count": 23,
     "metadata": {},
     "output_type": "execute_result"
    }
   ],
   "source": [
    "tokenizer.encode_plus(test, add_special_tokens=True, truncation=True)"
   ]
  },
  {
   "cell_type": "code",
   "execution_count": 24,
   "id": "e1e723f9",
   "metadata": {},
   "outputs": [
    {
     "data": {
      "text/plain": [
       "{'input_ids': [101, 1037, 18385, 1010, 6057, 1998, 2633, 18276, 2128, 16603, 1997, 5053, 1998, 1996, 6841, 1998, 5687, 5469, 3152, 102], 'attention_mask': [1, 1, 1, 1, 1, 1, 1, 1, 1, 1, 1, 1, 1, 1, 1, 1, 1, 1, 1, 1]}"
      ]
     },
     "execution_count": 24,
     "metadata": {},
     "output_type": "execute_result"
    }
   ],
   "source": [
    "tokenized_test=tokenizer(test, add_special_tokens=True)\n",
    "tokenized_test"
   ]
  },
  {
   "cell_type": "code",
   "execution_count": 25,
   "id": "ffab20a6",
   "metadata": {},
   "outputs": [],
   "source": [
    "tokens=df.apply(lambda x: tokenizer(x.text, add_special_tokens=True), axis=1).tolist()"
   ]
  },
  {
   "cell_type": "code",
   "execution_count": 34,
   "id": "df81727a",
   "metadata": {},
   "outputs": [],
   "source": [
    "train_tokens = train_df.apply(lambda x: tokenizer(x.text, add_special_tokens=True), axis=1).tolist()\n",
    "test_tokens = test_df.apply(lambda x: tokenizer(x.text, add_special_tokens=True), axis=1).tolist()"
   ]
  },
  {
   "cell_type": "code",
   "execution_count": 26,
   "id": "a0594f87",
   "metadata": {},
   "outputs": [],
   "source": [
    "def get_max_len(tokens):\n",
    "    key=\"input_ids\"\n",
    "    get_array=lambda x: x[key]\n",
    "    max_len=0\n",
    "    for value in tokens:\n",
    "        cur_len=len(get_array(value))\n",
    "        max_len=max(max_len, cur_len)\n",
    "    return max_len\n",
    "\n",
    "def padding(max_len, value):\n",
    "    padded = value + [0]*(max_len-len(value))\n",
    "    return padded\n",
    "\n",
    "def make_padded_tokens(max_len, tokens):\n",
    "    #input_ids, attention_mask = [], []\n",
    "    result=[]\n",
    "    for token in tokens:\n",
    "        cur_id, cur_att = token[\"input_ids\"], token[\"attention_mask\"]\n",
    "        result.append({\"input_ids\":padding(max_len,cur_id), \"attention_mask\":padding(max_len, cur_att)})\n",
    "        #input_ids.append(padding(max_len, cur_id))\n",
    "        #attention_mask.append(padding(max_len, cur_att))\n",
    "    \n",
    "    return result"
   ]
  },
  {
   "cell_type": "code",
   "execution_count": 28,
   "id": "7a568752",
   "metadata": {},
   "outputs": [
    {
     "data": {
      "text/plain": [
       "target\n",
       "1    3610\n",
       "0    3310\n",
       "Name: count, dtype: int64"
      ]
     },
     "execution_count": 28,
     "metadata": {},
     "output_type": "execute_result"
    }
   ],
   "source": [
    "df.target.value_counts()"
   ]
  },
  {
   "cell_type": "code",
   "execution_count": 35,
   "id": "67336cbb",
   "metadata": {},
   "outputs": [],
   "source": [
    "max_len=get_max_len(tokens)"
   ]
  },
  {
   "cell_type": "code",
   "execution_count": 30,
   "id": "8b503cdf",
   "metadata": {},
   "outputs": [],
   "source": [
    "padded_tokens=make_padded_tokens(max_len, tokens)"
   ]
  },
  {
   "cell_type": "code",
   "execution_count": 36,
   "id": "21690fde",
   "metadata": {},
   "outputs": [],
   "source": [
    "train_padded=make_padded_tokens(max_len, train_tokens)\n",
    "test_padded=make_padded_tokens(max_len, test_tokens)"
   ]
  },
  {
   "cell_type": "code",
   "execution_count": 37,
   "id": "e14c8813",
   "metadata": {},
   "outputs": [],
   "source": [
    "for i in range(len(train_padded)):\n",
    "    train_padded[i][\"label\"]=[train_df.target.iloc[i]]\n",
    "\n",
    "for i in range(len(test_padded)):\n",
    "    test_padded[i][\"label\"]=[test_df.target.iloc[i]]"
   ]
  },
  {
   "cell_type": "code",
   "execution_count": 31,
   "id": "5a544a18",
   "metadata": {},
   "outputs": [],
   "source": [
    "for i in range(len(padded_tokens)):\n",
    "    padded_tokens[i][\"label\"]=[df.target.iloc[i]]"
   ]
  },
  {
   "cell_type": "code",
   "execution_count": 75,
   "id": "5c1b7e76",
   "metadata": {},
   "outputs": [],
   "source": [
    "class CustomDataset(torch.utils.data.Dataset):\n",
    "    def __init__(self, data):\n",
    "        self.data=data\n",
    "        self.len=len(data)\n",
    "    def __getitem__(self, idx):\n",
    "        item=self.data[idx]\n",
    "        input_id, attention_mask, label = item[\"input_ids\"], item[\"attention_mask\"], item[\"label\"]\n",
    "        return np.array(input_id), np.array(attention_mask), label\n",
    "    def __len__(self):\n",
    "        return self.len\n",
    "def create_dataloader(dataset, batch_size=32, shuffle=False):\n",
    "    return torch.utils.data.DataLoader(dataset, batch_size=batch_size, shuffle=shuffle)"
   ]
  },
  {
   "cell_type": "code",
   "execution_count": 76,
   "id": "851b4149",
   "metadata": {},
   "outputs": [],
   "source": [
    "BATCH_SIZE=64"
   ]
  },
  {
   "cell_type": "code",
   "execution_count": 79,
   "id": "8c713be0",
   "metadata": {},
   "outputs": [],
   "source": [
    "train_dataset=CustomDataset(train_padded)\n",
    "train_dataloader=create_dataloader(train_dataset, batch_size=BATCH_SIZE)\n",
    "test_dataset=CustomDataset(test_padded)\n",
    "test_dataloader=create_dataloader(test_dataset, batch_size=BATCH_SIZE)"
   ]
  },
  {
   "cell_type": "code",
   "execution_count": 78,
   "id": "39dc4622",
   "metadata": {},
   "outputs": [
    {
     "data": {
      "text/plain": [
       "[tensor([[  101,  3904,  1997,  ...,     0,     0,     0],\n",
       "         [  101,  4832,  2004,  ...,     0,     0,     0],\n",
       "         [  101,  1996,  4654,  ...,     0,     0,     0],\n",
       "         ...,\n",
       "         [  101, 25912,  2015,  ...,     0,     0,     0],\n",
       "         [  101,  1996, 18987,  ...,     0,     0,     0],\n",
       "         [  101,  2096,  8498,  ...,     0,     0,     0]]),\n",
       " tensor([[1, 1, 1,  ..., 0, 0, 0],\n",
       "         [1, 1, 1,  ..., 0, 0, 0],\n",
       "         [1, 1, 1,  ..., 0, 0, 0],\n",
       "         ...,\n",
       "         [1, 1, 1,  ..., 0, 0, 0],\n",
       "         [1, 1, 1,  ..., 0, 0, 0],\n",
       "         [1, 1, 1,  ..., 0, 0, 0]]),\n",
       " [tensor([1, 1, 0, 1, 0, 1, 0, 1, 1, 1, 1, 1, 1, 1, 0, 1, 1, 1, 1, 1, 0, 1, 0, 1,\n",
       "          1, 1, 1, 0, 0, 1, 0, 0, 1, 0, 0, 1, 0, 0, 1, 0, 1, 1, 1, 0, 0, 1, 0, 0,\n",
       "          1, 0, 1, 1, 0, 0, 1, 1, 1, 1, 0, 0, 1, 1, 1, 1])]]"
      ]
     },
     "execution_count": 78,
     "metadata": {},
     "output_type": "execute_result"
    }
   ],
   "source": [
    "next(iter(train_dataloader))"
   ]
  },
  {
   "cell_type": "code",
   "execution_count": 45,
   "id": "f72fb9d7",
   "metadata": {},
   "outputs": [],
   "source": [
    "dataset=CustomDataset(padded_tokens)\n",
    "dataloader=create_dataloader(dataset, batch_size=BATCH_SIZE)"
   ]
  },
  {
   "cell_type": "code",
   "execution_count": 46,
   "id": "e51fbfd7",
   "metadata": {},
   "outputs": [
    {
     "data": {
      "text/plain": [
       "[tensor([[  101,  1037, 18385,  ...,     0,     0,     0],\n",
       "         [  101,  4593,  2128,  ...,     0,     0,     0],\n",
       "         [  101,  2027,  3653,  ...,     0,     0,     0],\n",
       "         ...,\n",
       "         [  101,  1037, 19240,  ...,     0,     0,     0],\n",
       "         [  101,  2009,  1005,  ...,     0,     0,     0],\n",
       "         [  101,  1996,  6919,  ...,     0,     0,     0]]),\n",
       " tensor([[1, 1, 1,  ..., 0, 0, 0],\n",
       "         [1, 1, 1,  ..., 0, 0, 0],\n",
       "         [1, 1, 1,  ..., 0, 0, 0],\n",
       "         ...,\n",
       "         [1, 1, 1,  ..., 0, 0, 0],\n",
       "         [1, 1, 1,  ..., 0, 0, 0],\n",
       "         [1, 1, 1,  ..., 0, 0, 0]]),\n",
       " [tensor([1, 0, 0, 1, 1, 1, 0, 1, 0, 0, 1, 0, 0, 1, 1, 1, 0, 1, 0, 0, 0, 1, 0, 0,\n",
       "          0, 1, 1, 0, 1, 0, 0, 1, 1, 1, 1, 0, 0, 0, 1, 1, 1, 1, 1, 0, 1, 0, 1, 1,\n",
       "          1, 1, 0, 1, 1, 1, 0, 1, 0, 1, 1, 1, 1, 1, 1, 1])]]"
      ]
     },
     "execution_count": 46,
     "metadata": {},
     "output_type": "execute_result"
    }
   ],
   "source": [
    "next(iter(dataloader))"
   ]
  },
  {
   "cell_type": "code",
   "execution_count": 20,
   "id": "fdcf87e9",
   "metadata": {},
   "outputs": [
    {
     "name": "stdout",
     "output_type": "stream",
     "text": [
      "cuda\n"
     ]
    }
   ],
   "source": [
    "device = \"cuda\" if torch.cuda.is_available() else \"cpu\"\n",
    "print(device)"
   ]
  },
  {
   "cell_type": "code",
   "execution_count": 21,
   "id": "b2f4f0bb",
   "metadata": {},
   "outputs": [],
   "source": [
    "model=model.to(device)"
   ]
  },
  {
   "cell_type": "code",
   "execution_count": 22,
   "id": "5b25f6f6",
   "metadata": {},
   "outputs": [],
   "source": [
    "#Embeddings\n",
    "embeddings = []\n",
    "model.eval()\n",
    "with torch.no_grad():\n",
    "    for batch in dataloader:\n",
    "        input_ids, attention_mask, label = batch\n",
    "        input_ids = input_ids.to(device)\n",
    "        attention_mask=attention_mask.to(device)\n",
    "        outputs=model(input_ids, attention_mask=attention_mask)\n",
    "        embeddings.append(outputs)"
   ]
  },
  {
   "cell_type": "code",
   "execution_count": 23,
   "id": "283e2f2c",
   "metadata": {},
   "outputs": [],
   "source": [
    "prepared_embeddings=[]\n",
    "for emb in embeddings:\n",
    "    for x in emb[\"last_hidden_state\"][:,0,:]:\n",
    "        prepared_embeddings.append(x.cpu().numpy())"
   ]
  },
  {
   "cell_type": "code",
   "execution_count": 24,
   "id": "5f18fb38",
   "metadata": {},
   "outputs": [
    {
     "data": {
      "text/plain": [
       "768"
      ]
     },
     "execution_count": 24,
     "metadata": {},
     "output_type": "execute_result"
    }
   ],
   "source": [
    "len(prepared_embeddings[0])"
   ]
  },
  {
   "cell_type": "code",
   "execution_count": 25,
   "id": "6e465b2b",
   "metadata": {},
   "outputs": [],
   "source": [
    "y=df.target.values"
   ]
  },
  {
   "cell_type": "code",
   "execution_count": 26,
   "id": "e6238bb8",
   "metadata": {},
   "outputs": [],
   "source": [
    "X_train, X_test, y_train, y_test = train_test_split(prepared_embeddings, y, stratify=y)"
   ]
  },
  {
   "cell_type": "code",
   "execution_count": 239,
   "id": "da3f92c1",
   "metadata": {},
   "outputs": [],
   "source": [
    "try:\n",
    "    save_pickle({\"embeddings\":X_train, \"labels\":y_train}, \"train_data\")\n",
    "    save_pickle({\"embeddings\":X_test, \"labels\":y_test}, \"test_data\")\n",
    "except Exception as err:\n",
    "    print(err)"
   ]
  },
  {
   "cell_type": "code",
   "execution_count": 27,
   "id": "8ae5730e",
   "metadata": {},
   "outputs": [],
   "source": [
    "lr=LogisticRegression().fit(X_train, y_train)\n",
    "y_pred=lr.predict(X_test)\n",
    "y_proba=lr.predict_proba(X_test)[:,1]"
   ]
  },
  {
   "cell_type": "code",
   "execution_count": 28,
   "id": "bff23568",
   "metadata": {},
   "outputs": [
    {
     "data": {
      "text/plain": [
       "0.9153156699551186"
      ]
     },
     "execution_count": 28,
     "metadata": {},
     "output_type": "execute_result"
    }
   ],
   "source": [
    "roc_auc_score(y_test, y_proba)"
   ]
  },
  {
   "cell_type": "code",
   "execution_count": 29,
   "id": "c3e08e7c",
   "metadata": {},
   "outputs": [
    {
     "data": {
      "text/plain": [
       "0.8317919075144509"
      ]
     },
     "execution_count": 29,
     "metadata": {},
     "output_type": "execute_result"
    }
   ],
   "source": [
    "accuracy_score(y_test, y_pred)"
   ]
  },
  {
   "cell_type": "code",
   "execution_count": 30,
   "id": "4e645bff",
   "metadata": {},
   "outputs": [
    {
     "data": {
      "text/plain": [
       "array([[709, 119],\n",
       "       [172, 730]])"
      ]
     },
     "execution_count": 30,
     "metadata": {},
     "output_type": "execute_result"
    }
   ],
   "source": [
    "confusion_matrix(y_test, y_pred)"
   ]
  },
  {
   "cell_type": "code",
   "execution_count": 31,
   "id": "607d4665",
   "metadata": {},
   "outputs": [],
   "source": [
    "y_train_proba=lr.predict_proba(X_train)[:,1]"
   ]
  },
  {
   "cell_type": "code",
   "execution_count": 32,
   "id": "4bb435bf",
   "metadata": {},
   "outputs": [
    {
     "data": {
      "text/plain": [
       "0.5213872832369942"
      ]
     },
     "execution_count": 32,
     "metadata": {},
     "output_type": "execute_result"
    }
   ],
   "source": [
    "np.mean(y_test)"
   ]
  },
  {
   "cell_type": "markdown",
   "id": "7c681df1",
   "metadata": {},
   "source": [
    "# Optuna "
   ]
  },
  {
   "cell_type": "markdown",
   "id": "1157ff4b",
   "metadata": {},
   "source": [
    "## Model Class"
   ]
  },
  {
   "cell_type": "code",
   "execution_count": 26,
   "id": "33be24d3",
   "metadata": {},
   "outputs": [],
   "source": [
    "class Classifier(torch.nn.Module):\n",
    "    def __init__(self, n_epochs=10, \n",
    "                 lr=1e-5, dropout=.1, hidden_size=384, \n",
    "                 n_classes=2, device=\"cpu\", weight_decay=.01):\n",
    "        super().__init__()\n",
    "        self.l1 = torch.nn.Linear(768, n_classes)\n",
    "        self.silu = torch.nn.SiLU()\n",
    "        self.dropout = torch.nn.Dropout(p=dropout)\n",
    "        self.opt = torch.optim.Adam(self.parameters(), lr=lr, weight_decay=weight_decay)\n",
    "        self.device = device\n",
    "        self.criteria = torch.nn.CrossEntropyLoss()\n",
    "        self.epochs = n_epochs\n",
    "        self.to(device)\n",
    "    def forward(self, embeddings):\n",
    "        outputs=self.l1(embeddings)\n",
    "        return outputs\n",
    "    \n",
    "    def train_step(self, train):\n",
    "        for batch in train:\n",
    "            X, y = batch\n",
    "            X = X.to(self.device)\n",
    "            y = y.to(self.device)\n",
    "            preds = self(X)\n",
    "            loss=self.criteria(preds, y)\n",
    "            self.opt.zero_grad()\n",
    "            loss.backward()\n",
    "            self.opt.step()\n",
    "    \n",
    "    def fit(self, train):\n",
    "        self.train()\n",
    "        for epoch in range(self.epochs):\n",
    "            self.train_step(train)\n",
    "    \n",
    "    def predict(self, test):\n",
    "        self.eval()\n",
    "        with torch.no_grad():\n",
    "            probas, labels = [], []\n",
    "            softmax = torch.nn.Softmax(dim=-1)\n",
    "            for X in test:\n",
    "                X = torch.FloatTensor(X).to(self.device)\n",
    "                score = self(X)\n",
    "                proba = softmax(score)[1].item()\n",
    "                probas.append(proba)\n",
    "                label = torch.argmax(score).item()\n",
    "                labels.append(label)\n",
    "        return probas"
   ]
  },
  {
   "cell_type": "code",
   "execution_count": 221,
   "id": "96a596f4",
   "metadata": {},
   "outputs": [],
   "source": [
    "nn = Classifier(lr=.007, n_epochs=23, dropout=.42, hidden_size=512, device=device)"
   ]
  },
  {
   "cell_type": "markdown",
   "id": "704f7c57",
   "metadata": {},
   "source": [
    "## Dataloaders"
   ]
  },
  {
   "cell_type": "code",
   "execution_count": 19,
   "id": "171bf716",
   "metadata": {},
   "outputs": [],
   "source": [
    "class ClassifierDataset(torch.utils.data.Dataset):\n",
    "    def __init__(self, embeddings, labels):\n",
    "        self.embeddings = embeddings\n",
    "        self.labels = labels\n",
    "    def __getitem__(self, idx):\n",
    "        return self.embeddings[idx], self.labels[idx]\n",
    "    def __len__(self):\n",
    "        return len(self.embeddings)\n",
    "\n",
    "def create_dataloader(embeddings, labels, batch_size=1):\n",
    "    dataset = ClassifierDataset(embeddings, labels)\n",
    "    return torch.utils.data.DataLoader(dataset, batch_size=batch_size)"
   ]
  },
  {
   "cell_type": "code",
   "execution_count": 6,
   "id": "9ab991ca",
   "metadata": {},
   "outputs": [],
   "source": [
    "try:\n",
    "    train_data = load_pickle(\"train_data\")\n",
    "    test_data = load_pickle(\"test_data\")\n",
    "    X_train, y_train = train_data[\"embeddings\"], train_data[\"labels\"]\n",
    "    X_test, y_test = test_data[\"embeddings\"], test_data[\"labels\"]\n",
    "except Exception as err:\n",
    "    print(err)"
   ]
  },
  {
   "cell_type": "code",
   "execution_count": 22,
   "id": "2cb6c102",
   "metadata": {},
   "outputs": [],
   "source": [
    "train = create_dataloader(X_train, y_train, batch_size=64)"
   ]
  },
  {
   "cell_type": "code",
   "execution_count": 222,
   "id": "c4f71e91",
   "metadata": {},
   "outputs": [],
   "source": [
    "nn.fit(train)"
   ]
  },
  {
   "cell_type": "code",
   "execution_count": 223,
   "id": "33056345",
   "metadata": {},
   "outputs": [
    {
     "data": {
      "text/plain": [
       "0.8691247040928908"
      ]
     },
     "execution_count": 223,
     "metadata": {},
     "output_type": "execute_result"
    }
   ],
   "source": [
    "pred_p=nn.predict(X_test)\n",
    "roc_auc_score(y_test, pred_p)"
   ]
  },
  {
   "cell_type": "code",
   "execution_count": 113,
   "id": "6a9d9c49",
   "metadata": {},
   "outputs": [],
   "source": [
    "def custom_softmax(array):\n",
    "    return np.exp(array)/np.sum(np.exp(array))"
   ]
  },
  {
   "cell_type": "code",
   "execution_count": 167,
   "id": "6d4a10ef",
   "metadata": {},
   "outputs": [
    {
     "data": {
      "text/plain": [
       "array([0.45321229, 0.54678771])"
      ]
     },
     "execution_count": 167,
     "metadata": {},
     "output_type": "execute_result"
    }
   ],
   "source": [
    "custom_softmax([-0.1375,  0.0502])"
   ]
  },
  {
   "cell_type": "code",
   "execution_count": 27,
   "id": "642d3f96",
   "metadata": {},
   "outputs": [],
   "source": [
    "\"\"\"\n",
    "Optuna example that optimizes multi-layer perceptrons using PyTorch.\n",
    "\n",
    "In this example, we optimize the validation accuracy of fashion product recognition using\n",
    "PyTorch and FashionMNIST. We optimize the neural network architecture as well as the optimizer\n",
    "configuration. As it is too time consuming to use the whole FashionMNIST dataset,\n",
    "we here use a small subset of it.\n",
    "\n",
    "\"\"\"\n",
    "\n",
    "import os\n",
    "\n",
    "import optuna\n",
    "from optuna.trial import TrialState\n",
    "\n",
    "\n",
    "def objective(trial):\n",
    "    # Generate the model.\n",
    "    device=\"cpu\"\n",
    "\n",
    "    # Generate the optimizers.\n",
    "    #optimizer_name = trial.suggest_categorical(\"optimizer\", [\"Adam\", \"RMSprop\", \"SGD\"])\n",
    "    params={\"lr\" : trial.suggest_float(\"lr\", 1e-5, 1e-1, log=True),\n",
    "            \"weight_decay\": trial.suggest_float(\"weight_decay\", 1e-4, 1e-1), \n",
    "            \"n_epochs\" : trial.suggest_int(\"n_epochs\", 5, 100),\n",
    "            \"dropout\" : trial.suggest_float(\"dropout\", 0., .5),\n",
    "            \"device\" : device\n",
    "           }\n",
    "    \n",
    "    model = Classifier(**params)\n",
    "    model.fit(train)\n",
    "    probas = model.predict(X_test)\n",
    "    \n",
    "    #accuracy = accuracy_score(y_test, probas)\n",
    "    roc_score = roc_auc_score(y_test, probas)\n",
    "    \n",
    "    return roc_score"
   ]
  },
  {
   "cell_type": "code",
   "execution_count": 28,
   "id": "c33c45ea",
   "metadata": {},
   "outputs": [
    {
     "name": "stderr",
     "output_type": "stream",
     "text": [
      "[I 2023-07-12 23:13:50,837] A new study created in memory with name: no-name-47f53a5e-d9a6-4fe8-a017-4801ef36a82d\n",
      "[I 2023-07-12 23:13:55,472] Trial 0 finished with value: 0.8904072538749102 and parameters: {'lr': 5.0383177410649175e-05, 'weight_decay': 0.0815780295946829, 'n_epochs': 93, 'dropout': 0.2624739519884348}. Best is trial 0 with value: 0.8904072538749102.\n",
      "[I 2023-07-12 23:13:59,298] Trial 1 finished with value: 0.8935484216502243 and parameters: {'lr': 3.317070580173314e-05, 'weight_decay': 0.01242621179280471, 'n_epochs': 75, 'dropout': 0.38554891355959986}. Best is trial 1 with value: 0.8935484216502243.\n",
      "[I 2023-07-12 23:14:02,943] Trial 2 finished with value: 0.899114420986107 and parameters: {'lr': 0.00019790694790247304, 'weight_decay': 0.037528477031941024, 'n_epochs': 72, 'dropout': 0.4956601045867328}. Best is trial 2 with value: 0.899114420986107.\n",
      "[I 2023-07-12 23:14:05,033] Trial 3 finished with value: 0.9112251893269921 and parameters: {'lr': 0.005816689982039197, 'weight_decay': 0.007940635216094224, 'n_epochs': 44, 'dropout': 0.25978573132883825}. Best is trial 3 with value: 0.9112251893269921.\n",
      "[I 2023-07-12 23:14:05,371] Trial 4 finished with value: 0.8914449371766445 and parameters: {'lr': 0.027074590039725944, 'weight_decay': 0.05379313743897806, 'n_epochs': 6, 'dropout': 0.3314812535554252}. Best is trial 3 with value: 0.9112251893269921.\n",
      "[I 2023-07-12 23:14:06,972] Trial 5 finished with value: 0.8693710701929153 and parameters: {'lr': 2.320747785660697e-05, 'weight_decay': 0.08807322322294911, 'n_epochs': 32, 'dropout': 0.3186816108056931}. Best is trial 3 with value: 0.9112251893269921.\n",
      "[I 2023-07-12 23:14:11,346] Trial 6 finished with value: 0.901398663196118 and parameters: {'lr': 0.0015916788376138568, 'weight_decay': 0.031134218199903266, 'n_epochs': 93, 'dropout': 0.17579167502337645}. Best is trial 3 with value: 0.9112251893269921.\n",
      "[I 2023-07-12 23:14:12,296] Trial 7 finished with value: 0.8853139025461398 and parameters: {'lr': 9.139970532797332e-05, 'weight_decay': 0.04461209673996782, 'n_epochs': 17, 'dropout': 0.11151786579672096}. Best is trial 3 with value: 0.9112251893269921.\n",
      "[I 2023-07-12 23:14:12,939] Trial 8 finished with value: 0.8617779063166124 and parameters: {'lr': 4.563758290796461e-05, 'weight_decay': 0.05129731783658905, 'n_epochs': 11, 'dropout': 0.05498521186520422}. Best is trial 3 with value: 0.9112251893269921.\n",
      "[I 2023-07-12 23:14:13,264] Trial 9 finished with value: 0.8211141103505897 and parameters: {'lr': 2.9369058971771608e-05, 'weight_decay': 0.0076989779957953, 'n_epochs': 5, 'dropout': 0.23197168449652217}. Best is trial 3 with value: 0.9112251893269921.\n",
      "[I 2023-07-12 23:14:15,651] Trial 10 finished with value: 0.8878672729415042 and parameters: {'lr': 0.07836644051265917, 'weight_decay': 0.007835594798196836, 'n_epochs': 45, 'dropout': 0.021884386693492963}. Best is trial 3 with value: 0.9112251893269921.\n",
      "[I 2023-07-12 23:14:18,663] Trial 11 finished with value: 0.9034311835213213 and parameters: {'lr': 0.0029257938389766116, 'weight_decay': 0.02573086076685728, 'n_epochs': 57, 'dropout': 0.16296646494296735}. Best is trial 3 with value: 0.9112251893269921.\n",
      "[I 2023-07-12 23:14:21,361] Trial 12 finished with value: 0.9039480167528949 and parameters: {'lr': 0.0045381656721289205, 'weight_decay': 0.02524962258557897, 'n_epochs': 56, 'dropout': 0.15631109126018675}. Best is trial 3 with value: 0.9112251893269921.\n",
      "[I 2023-07-12 23:14:23,533] Trial 13 finished with value: 0.916677378236233 and parameters: {'lr': 0.006170695945089731, 'weight_decay': 0.0008973681805507575, 'n_epochs': 45, 'dropout': 0.11486005658887384}. Best is trial 13 with value: 0.916677378236233.\n",
      "[I 2023-07-12 23:14:25,160] Trial 14 finished with value: 0.9148497166789851 and parameters: {'lr': 0.0102885833528639, 'weight_decay': 0.0013147011193565625, 'n_epochs': 33, 'dropout': 0.09555673799598352}. Best is trial 13 with value: 0.916677378236233.\n",
      "[I 2023-07-12 23:14:26,696] Trial 15 finished with value: 0.9129470741347729 and parameters: {'lr': 0.0006242072565159621, 'weight_decay': 0.00282246864818387, 'n_epochs': 31, 'dropout': 0.07456528148425055}. Best is trial 13 with value: 0.916677378236233.\n",
      "[I 2023-07-12 23:14:28,210] Trial 16 finished with value: 0.914480167528948 and parameters: {'lr': 0.01403546096251436, 'weight_decay': 0.0005032438722874604, 'n_epochs': 30, 'dropout': 0.019611559951228208}. Best is trial 13 with value: 0.916677378236233.\n",
      "[I 2023-07-12 23:14:31,460] Trial 17 finished with value: 0.9046442687747036 and parameters: {'lr': 0.0008194565141724666, 'weight_decay': 0.02097506223766641, 'n_epochs': 68, 'dropout': 0.09889898869217875}. Best is trial 13 with value: 0.916677378236233.\n",
      "[I 2023-07-12 23:14:32,653] Trial 18 finished with value: 0.9043898689975041 and parameters: {'lr': 0.010895995658320931, 'weight_decay': 0.01675829426058719, 'n_epochs': 24, 'dropout': 0.12797442456947197}. Best is trial 13 with value: 0.916677378236233.\n",
      "[I 2023-07-12 23:14:34,842] Trial 19 finished with value: 0.8968234840451171 and parameters: {'lr': 0.04508693353583366, 'weight_decay': 0.015712846913336825, 'n_epochs': 44, 'dropout': 0.008191035352103304}. Best is trial 13 with value: 0.916677378236233.\n",
      "[I 2023-07-12 23:14:36,845] Trial 20 finished with value: 0.9131358655483788 and parameters: {'lr': 0.018513919987716274, 'weight_decay': 0.0024793174486611846, 'n_epochs': 41, 'dropout': 0.06738544097417068}. Best is trial 13 with value: 0.916677378236233.\n",
      "[I 2023-07-12 23:14:38,624] Trial 21 finished with value: 0.915025118630633 and parameters: {'lr': 0.011340756182941062, 'weight_decay': 0.00044124164624938337, 'n_epochs': 32, 'dropout': 0.0031990259739442146}. Best is trial 13 with value: 0.916677378236233.\n",
      "[I 2023-07-12 23:14:40,589] Trial 22 finished with value: 0.9159088231198518 and parameters: {'lr': 0.008040201557761483, 'weight_decay': 0.0008656792876959216, 'n_epochs': 36, 'dropout': 0.06425065033906346}. Best is trial 13 with value: 0.916677378236233.\n",
      "[I 2023-07-12 23:14:41,609] Trial 23 finished with value: 0.90753371466521 and parameters: {'lr': 0.0026163932181554523, 'weight_decay': 0.014344221481032801, 'n_epochs': 20, 'dropout': 0.045513002879452306}. Best is trial 13 with value: 0.916677378236233.\n",
      "[I 2023-07-12 23:14:44,343] Trial 24 finished with value: 0.9050245294943067 and parameters: {'lr': 0.006705088027759636, 'weight_decay': 0.019437251166126174, 'n_epochs': 55, 'dropout': 0.05308532106073197}. Best is trial 13 with value: 0.916677378236233.\n",
      "[I 2023-07-12 23:14:47,583] Trial 25 finished with value: 0.9024109065201324 and parameters: {'lr': 0.03064813380729775, 'weight_decay': 0.010072205701004849, 'n_epochs': 65, 'dropout': 0.0045160404390636455}. Best is trial 13 with value: 0.916677378236233.\n",
      "[I 2023-07-12 23:14:49,451] Trial 26 finished with value: 0.8789445354927858 and parameters: {'lr': 0.09730807056922335, 'weight_decay': 0.03317026858003602, 'n_epochs': 36, 'dropout': 0.11722631595232233}. Best is trial 13 with value: 0.916677378236233.\n",
      "[I 2023-07-12 23:14:51,905] Trial 27 finished with value: 0.9143154771468663 and parameters: {'lr': 0.008076448418388971, 'weight_decay': 0.00018812140808957247, 'n_epochs': 50, 'dropout': 0.04068616329443975}. Best is trial 13 with value: 0.916677378236233.\n",
      "[I 2023-07-12 23:14:53,138] Trial 28 finished with value: 0.9026130873956961 and parameters: {'lr': 0.01994479990660945, 'weight_decay': 0.012190745267443443, 'n_epochs': 25, 'dropout': 0.0004956486281937592}. Best is trial 13 with value: 0.916677378236233.\n",
      "[I 2023-07-12 23:14:57,060] Trial 29 finished with value: 0.8952274601797401 and parameters: {'lr': 0.003853177692954969, 'weight_decay': 0.06491614740508013, 'n_epochs': 83, 'dropout': 0.0777526682141515}. Best is trial 13 with value: 0.916677378236233.\n",
      "[I 2023-07-12 23:14:59,012] Trial 30 finished with value: 0.9033548635881616 and parameters: {'lr': 0.0014808647056948723, 'weight_decay': 0.024690597902091577, 'n_epochs': 40, 'dropout': 0.13623680463830837}. Best is trial 13 with value: 0.916677378236233.\n",
      "[I 2023-07-12 23:15:01,472] Trial 31 finished with value: 0.9110538042139316 and parameters: {'lr': 0.01105686379199457, 'weight_decay': 0.005723710897250245, 'n_epochs': 49, 'dropout': 0.08178099407755823}. Best is trial 13 with value: 0.916677378236233.\n"
     ]
    },
    {
     "name": "stderr",
     "output_type": "stream",
     "text": [
      "[I 2023-07-12 23:15:03,232] Trial 32 finished with value: 0.9145243527534089 and parameters: {'lr': 0.008515282926860235, 'weight_decay': 0.00010792942109859977, 'n_epochs': 36, 'dropout': 0.19536904764966956}. Best is trial 13 with value: 0.916677378236233.\n",
      "[I 2023-07-12 23:15:04,623] Trial 33 finished with value: 0.9073529569287788 and parameters: {'lr': 0.013980057870643157, 'weight_decay': 0.010191360386568636, 'n_epochs': 26, 'dropout': 0.10123275454235382}. Best is trial 13 with value: 0.916677378236233.\n",
      "[I 2023-07-12 23:15:06,373] Trial 34 finished with value: 0.907689032423921 and parameters: {'lr': 0.005607740516452008, 'weight_decay': 0.014591494532498063, 'n_epochs': 36, 'dropout': 0.038805125155348535}. Best is trial 13 with value: 0.916677378236233.\n",
      "[I 2023-07-12 23:15:07,262] Trial 35 finished with value: 0.9027027967908139 and parameters: {'lr': 0.04220150312875193, 'weight_decay': 0.006929862847729482, 'n_epochs': 17, 'dropout': 0.09131042403619834}. Best is trial 13 with value: 0.916677378236233.\n",
      "[I 2023-07-12 23:15:09,972] Trial 36 finished with value: 0.8565426266910892 and parameters: {'lr': 1.0307943259724223e-05, 'weight_decay': 0.006397581373268574, 'n_epochs': 50, 'dropout': 0.13819138505316486}. Best is trial 13 with value: 0.916677378236233.\n",
      "[I 2023-07-12 23:15:12,856] Trial 37 finished with value: 0.9055279732639224 and parameters: {'lr': 0.006105773903112125, 'weight_decay': 0.019267559534649453, 'n_epochs': 59, 'dropout': 0.036826276998667626}. Best is trial 13 with value: 0.916677378236233.\n",
      "[I 2023-07-12 23:15:14,342] Trial 38 finished with value: 0.9037900211017922 and parameters: {'lr': 0.021871425268084378, 'weight_decay': 0.01121292793478471, 'n_epochs': 30, 'dropout': 0.1957849712597358}. Best is trial 13 with value: 0.916677378236233.\n",
      "[I 2023-07-12 23:15:14,927] Trial 39 finished with value: 0.9144225928425292 and parameters: {'lr': 0.003574629543406917, 'weight_decay': 0.0032856825847214013, 'n_epochs': 11, 'dropout': 0.07249630062252754}. Best is trial 13 with value: 0.916677378236233.\n",
      "[I 2023-07-12 23:15:16,890] Trial 40 finished with value: 0.8990983536317576 and parameters: {'lr': 0.002140975262441698, 'weight_decay': 0.04000515686195539, 'n_epochs': 40, 'dropout': 0.11276801504593759}. Best is trial 13 with value: 0.916677378236233.\n",
      "[I 2023-07-12 23:15:18,675] Trial 41 finished with value: 0.9147800914768042 and parameters: {'lr': 0.009180732812376895, 'weight_decay': 0.00019913001941541692, 'n_epochs': 36, 'dropout': 0.1963502105083991}. Best is trial 13 with value: 0.916677378236233.\n",
      "[I 2023-07-12 23:15:20,610] Trial 42 finished with value: 0.91128945874439 and parameters: {'lr': 0.012826537805373246, 'weight_decay': 0.005142868265633337, 'n_epochs': 35, 'dropout': 0.14848042747927442}. Best is trial 13 with value: 0.916677378236233.\n",
      "[I 2023-07-12 23:15:22,801] Trial 43 finished with value: 0.9076140514369571 and parameters: {'lr': 0.00844122141763361, 'weight_decay': 0.011697480706201493, 'n_epochs': 45, 'dropout': 0.1839419056877522}. Best is trial 13 with value: 0.916677378236233.\n",
      "[I 2023-07-12 23:15:23,940] Trial 44 finished with value: 0.9122508221129642 and parameters: {'lr': 0.004889233437220779, 'weight_decay': 0.006790527530720423, 'n_epochs': 23, 'dropout': 0.230544032901108}. Best is trial 13 with value: 0.916677378236233.\n",
      "[I 2023-07-12 23:15:25,429] Trial 45 finished with value: 0.9143355613398031 and parameters: {'lr': 0.018004598590279648, 'weight_decay': 0.0008287283518588328, 'n_epochs': 29, 'dropout': 0.0997605980376309}. Best is trial 13 with value: 0.916677378236233.\n",
      "[I 2023-07-12 23:15:26,352] Trial 46 finished with value: 0.9021873025054361 and parameters: {'lr': 0.03126275519792967, 'weight_decay': 0.010298533933919149, 'n_epochs': 18, 'dropout': 0.02698377131348853}. Best is trial 13 with value: 0.916677378236233.\n",
      "[I 2023-07-12 23:15:29,369] Trial 47 finished with value: 0.9138763027946486 and parameters: {'lr': 0.004330765888841019, 'weight_decay': 0.0047465831923209365, 'n_epochs': 61, 'dropout': 0.05739531465596998}. Best is trial 13 with value: 0.916677378236233.\n",
      "[I 2023-07-12 23:15:30,061] Trial 48 finished with value: 0.9160668187709544 and parameters: {'lr': 0.009343773990891856, 'weight_decay': 0.00011730116998220483, 'n_epochs': 13, 'dropout': 0.16403299487924144}. Best is trial 13 with value: 0.916677378236233.\n",
      "[I 2023-07-12 23:15:30,772] Trial 49 finished with value: 0.9061345158906134 and parameters: {'lr': 0.001726455327188008, 'weight_decay': 0.017005463047452055, 'n_epochs': 13, 'dropout': 0.1610193584877362}. Best is trial 13 with value: 0.916677378236233.\n",
      "[I 2023-07-12 23:15:31,472] Trial 50 finished with value: 0.903909187313217 and parameters: {'lr': 0.002711593558563628, 'weight_decay': 0.023520878034275217, 'n_epochs': 13, 'dropout': 0.12682576269623874}. Best is trial 13 with value: 0.916677378236233.\n",
      "[I 2023-07-12 23:15:33,396] Trial 51 finished with value: 0.9128078237304111 and parameters: {'lr': 0.01004040593071891, 'weight_decay': 0.003754193714151338, 'n_epochs': 39, 'dropout': 0.17288577426682566}. Best is trial 13 with value: 0.916677378236233.\n",
      "[I 2023-07-12 23:15:35,017] Trial 52 finished with value: 0.9167670876313506 and parameters: {'lr': 0.0063819978208864555, 'weight_decay': 0.0006458499552415412, 'n_epochs': 32, 'dropout': 0.14497888037194898}. Best is trial 52 with value: 0.9167670876313506.\n",
      "[I 2023-07-12 23:15:36,485] Trial 53 finished with value: 0.9112425956275374 and parameters: {'lr': 0.006163443001985322, 'weight_decay': 0.007744790788579186, 'n_epochs': 27, 'dropout': 0.06746586570603991}. Best is trial 52 with value: 0.9167670876313506.\n",
      "[I 2023-07-12 23:15:37,551] Trial 54 finished with value: 0.9041073513501932 and parameters: {'lr': 0.014677753019758965, 'weight_decay': 0.015069826924807796, 'n_epochs': 21, 'dropout': 0.11393768986853856}. Best is trial 52 with value: 0.9167670876313506.\n",
      "[I 2023-07-12 23:15:37,998] Trial 55 finished with value: 0.9104231605557163 and parameters: {'lr': 0.0038711910010222153, 'weight_decay': 0.008934204907589944, 'n_epochs': 8, 'dropout': 0.08759865439804898}. Best is trial 52 with value: 0.9167670876313506.\n",
      "[I 2023-07-12 23:15:42,806] Trial 56 finished with value: 0.9130769519157642 and parameters: {'lr': 0.007510870826646634, 'weight_decay': 0.00464845035567681, 'n_epochs': 100, 'dropout': 0.1429166792536114}. Best is trial 52 with value: 0.9167670876313506.\n",
      "[I 2023-07-12 23:15:44,445] Trial 57 finished with value: 0.904873228574183 and parameters: {'lr': 0.014482411930055223, 'weight_decay': 0.0138506812316186, 'n_epochs': 33, 'dropout': 0.01730105890174008}. Best is trial 52 with value: 0.9167670876313506.\n",
      "[I 2023-07-12 23:15:46,722] Trial 58 finished with value: 0.9103294343220112 and parameters: {'lr': 0.023526094205176044, 'weight_decay': 0.002311759717104527, 'n_epochs': 47, 'dropout': 0.05234483966448232}. Best is trial 52 with value: 0.9167670876313506.\n",
      "[I 2023-07-12 23:15:48,790] Trial 59 finished with value: 0.910862334907934 and parameters: {'lr': 0.005161769909073645, 'weight_decay': 0.00876706511820292, 'n_epochs': 42, 'dropout': 0.12113668452288978}. Best is trial 52 with value: 0.9167670876313506.\n",
      "[I 2023-07-12 23:15:51,342] Trial 60 finished with value: 0.9060930085585441 and parameters: {'lr': 0.003272325464040143, 'weight_decay': 0.018783908335022338, 'n_epochs': 52, 'dropout': 0.1003551562198548}. Best is trial 52 with value: 0.9167670876313506.\n",
      "[I 2023-07-12 23:15:52,958] Trial 61 finished with value: 0.914061077369667 and parameters: {'lr': 0.008753899602471032, 'weight_decay': 0.002722343309666417, 'n_epochs': 33, 'dropout': 0.1552564613421202}. Best is trial 52 with value: 0.9167670876313506.\n",
      "[I 2023-07-12 23:15:54,797] Trial 62 finished with value: 0.9146622642115749 and parameters: {'lr': 0.011195888746719973, 'weight_decay': 0.0004057181156547996, 'n_epochs': 38, 'dropout': 0.13077353877635992}. Best is trial 52 with value: 0.9167670876313506.\n",
      "[I 2023-07-12 23:15:56,860] Trial 63 finished with value: 0.9152447058067419 and parameters: {'lr': 0.007243142418657455, 'weight_decay': 0.00021068167584474182, 'n_epochs': 43, 'dropout': 0.21004271704547542}. Best is trial 52 with value: 0.9167670876313506.\n"
     ]
    },
    {
     "name": "stderr",
     "output_type": "stream",
     "text": [
      "[I 2023-07-12 23:15:59,059] Trial 64 finished with value: 0.90833440449029 and parameters: {'lr': 0.0066721638566386385, 'weight_decay': 0.012337908956905909, 'n_epochs': 45, 'dropout': 0.024772471530997445}. Best is trial 52 with value: 0.9167670876313506.\n",
      "[I 2023-07-12 23:16:01,635] Trial 65 finished with value: 0.9109051811861992 and parameters: {'lr': 0.018320751516600703, 'weight_decay': 0.004411024194002242, 'n_epochs': 54, 'dropout': 0.08383365541693372}. Best is trial 52 with value: 0.9167670876313506.\n",
      "[I 2023-07-12 23:16:05,281] Trial 66 finished with value: 0.9113229323992844 and parameters: {'lr': 0.0049827128307161905, 'weight_decay': 0.008164466430245276, 'n_epochs': 78, 'dropout': 0.17014774451589704}. Best is trial 52 with value: 0.9167670876313506.\n",
      "[I 2023-07-12 23:16:06,678] Trial 67 finished with value: 0.9074814957635742 and parameters: {'lr': 0.02762519087078479, 'weight_decay': 0.0049494684418773405, 'n_epochs': 28, 'dropout': 0.05745076540137328}. Best is trial 52 with value: 0.9167670876313506.\n",
      "[I 2023-07-12 23:16:08,740] Trial 68 finished with value: 0.9076033398673908 and parameters: {'lr': 0.011308121906565192, 'weight_decay': 0.010644042435016356, 'n_epochs': 43, 'dropout': 0.14409648884555998}. Best is trial 52 with value: 0.9167670876313506.\n",
      "[I 2023-07-12 23:16:10,306] Trial 69 finished with value: 0.9147385841447347 and parameters: {'lr': 0.006900092144301557, 'weight_decay': 0.002771382516204459, 'n_epochs': 32, 'dropout': 0.10961614689917822}. Best is trial 52 with value: 0.9167670876313506.\n",
      "[I 2023-07-12 23:16:12,541] Trial 70 finished with value: 0.9168916096275588 and parameters: {'lr': 0.002544787056819999, 'weight_decay': 0.00020367372158356745, 'n_epochs': 47, 'dropout': 0.06803074756097381}. Best is trial 70 with value: 0.9168916096275588.\n",
      "[I 2023-07-12 23:16:14,894] Trial 71 finished with value: 0.9121530790406718 and parameters: {'lr': 0.0034693087849594433, 'weight_decay': 0.006802801283978539, 'n_epochs': 49, 'dropout': 0.06748499061533607}. Best is trial 70 with value: 0.9168916096275588.\n",
      "[I 2023-07-12 23:16:16,787] Trial 72 finished with value: 0.916990691646047 and parameters: {'lr': 0.002324391718287695, 'weight_decay': 0.00030609755973320593, 'n_epochs': 38, 'dropout': 0.08819416556682445}. Best is trial 72 with value: 0.916990691646047.\n",
      "[I 2023-07-12 23:16:18,829] Trial 73 finished with value: 0.9152420279143502 and parameters: {'lr': 0.0021005272382120096, 'weight_decay': 0.002755286157430927, 'n_epochs': 42, 'dropout': 0.043090478125502124}. Best is trial 72 with value: 0.916990691646047.\n",
      "[I 2023-07-12 23:16:21,057] Trial 74 finished with value: 0.9149568323746479 and parameters: {'lr': 0.002638769653020107, 'weight_decay': 0.0030677175302353506, 'n_epochs': 47, 'dropout': 0.08468610701048257}. Best is trial 72 with value: 0.916990691646047.\n",
      "[I 2023-07-12 23:16:23,273] Trial 75 finished with value: 0.908196493032124 and parameters: {'lr': 0.0013778310469744442, 'weight_decay': 0.012928954421646315, 'n_epochs': 42, 'dropout': 0.04297605246253595}. Best is trial 72 with value: 0.916990691646047.\n",
      "[I 2023-07-12 23:16:25,907] Trial 76 finished with value: 0.9113229323992843 and parameters: {'lr': 0.0022046801400100336, 'weight_decay': 0.007508182178078917, 'n_epochs': 52, 'dropout': 0.12005611295268873}. Best is trial 72 with value: 0.916990691646047.\n",
      "[I 2023-07-12 23:16:27,777] Trial 77 finished with value: 0.9173240892487977 and parameters: {'lr': 0.004291942975907037, 'weight_decay': 0.0003425302039248262, 'n_epochs': 38, 'dropout': 0.10189149879361648}. Best is trial 77 with value: 0.9173240892487977.\n",
      "[I 2023-07-12 23:16:29,732] Trial 78 finished with value: 0.9168085949634199 and parameters: {'lr': 0.004931680064479211, 'weight_decay': 0.00017298499299901098, 'n_epochs': 39, 'dropout': 0.1023877691320866}. Best is trial 77 with value: 0.9173240892487977.\n",
      "[I 2023-07-12 23:16:31,550] Trial 79 finished with value: 0.9136366314256029 and parameters: {'lr': 0.003095729798193662, 'weight_decay': 0.004675945297208987, 'n_epochs': 37, 'dropout': 0.1346430289775158}. Best is trial 77 with value: 0.9173240892487977.\n",
      "[I 2023-07-12 23:16:33,946] Trial 80 finished with value: 0.9107083560954188 and parameters: {'lr': 0.004817039284724455, 'weight_decay': 0.009174149954107669, 'n_epochs': 48, 'dropout': 0.0717600234354725}. Best is trial 77 with value: 0.9173240892487977.\n",
      "[I 2023-07-12 23:16:35,943] Trial 81 finished with value: 0.9159222125818097 and parameters: {'lr': 0.006375173037039274, 'weight_decay': 0.0018285890058308107, 'n_epochs': 39, 'dropout': 0.10348020771867655}. Best is trial 77 with value: 0.9173240892487977.\n",
      "[I 2023-07-12 23:16:37,819] Trial 82 finished with value: 0.9159362715168654 and parameters: {'lr': 0.004040987776453638, 'weight_decay': 0.0021452273024897602, 'n_epochs': 37, 'dropout': 0.092141725938954}. Best is trial 77 with value: 0.9173240892487977.\n",
      "[I 2023-07-12 23:16:39,763] Trial 83 finished with value: 0.9131693392032736 and parameters: {'lr': 0.004084588226588843, 'weight_decay': 0.0056782703091924755, 'n_epochs': 39, 'dropout': 0.10601671008485375}. Best is trial 77 with value: 0.9173240892487977.\n",
      "[I 2023-07-12 23:16:41,589] Trial 84 finished with value: 0.915300941546965 and parameters: {'lr': 0.005388670862580409, 'weight_decay': 0.0026785112064924652, 'n_epochs': 35, 'dropout': 0.10016545293143644}. Best is trial 77 with value: 0.9173240892487977.\n",
      "[I 2023-07-12 23:16:43,885] Trial 85 finished with value: 0.9119415255417378 and parameters: {'lr': 0.0030866546192853186, 'weight_decay': 0.006959408183674072, 'n_epochs': 46, 'dropout': 0.08472752391273769}. Best is trial 77 with value: 0.9173240892487977.\n",
      "[I 2023-07-12 23:16:46,022] Trial 86 finished with value: 0.9171567209743243 and parameters: {'lr': 0.0040547847999659065, 'weight_decay': 0.00031569702361444144, 'n_epochs': 40, 'dropout': 0.15500390550803989}. Best is trial 77 with value: 0.9173240892487977.\n",
      "[I 2023-07-12 23:16:48,962] Trial 87 finished with value: 0.9107391518579219 and parameters: {'lr': 0.0037368103959921875, 'weight_decay': 0.009124500240225744, 'n_epochs': 58, 'dropout': 0.1235203419404815}. Best is trial 77 with value: 0.9173240892487977.\n",
      "[I 2023-07-12 23:16:50,490] Trial 88 finished with value: 0.9161538502736806 and parameters: {'lr': 0.0011374740833168496, 'weight_decay': 0.00043043804334927084, 'n_epochs': 30, 'dropout': 0.09152242205579854}. Best is trial 77 with value: 0.9173240892487977.\n",
      "[I 2023-07-12 23:16:52,140] Trial 89 finished with value: 0.9165367888856754 and parameters: {'lr': 0.0012035480952243436, 'weight_decay': 0.00013540752101793356, 'n_epochs': 30, 'dropout': 0.15297143391977183}. Best is trial 77 with value: 0.9173240892487977.\n",
      "[I 2023-07-12 23:16:53,356] Trial 90 finished with value: 0.9086811915549985 and parameters: {'lr': 0.0011993265967331632, 'weight_decay': 0.011860284375339054, 'n_epochs': 24, 'dropout': 0.153335485945751}. Best is trial 77 with value: 0.9173240892487977.\n",
      "[I 2023-07-12 23:16:54,890] Trial 91 finished with value: 0.9125507460608202 and parameters: {'lr': 0.0008867959167147412, 'weight_decay': 0.005009530149659369, 'n_epochs': 30, 'dropout': 0.16483896277466956}. Best is trial 77 with value: 0.9173240892487977.\n",
      "[I 2023-07-12 23:16:56,040] Trial 92 finished with value: 0.9162663217541265 and parameters: {'lr': 0.001797872837443933, 'weight_decay': 0.00011119509875145623, 'n_epochs': 22, 'dropout': 0.14153497695604156}. Best is trial 77 with value: 0.9173240892487977.\n",
      "[I 2023-07-12 23:16:57,738] Trial 93 finished with value: 0.9120593528069667 and parameters: {'lr': 0.0006958095315349522, 'weight_decay': 0.005669654641042314, 'n_epochs': 34, 'dropout': 0.13245635262555563}. Best is trial 77 with value: 0.9173240892487977.\n",
      "[I 2023-07-12 23:16:58,818] Trial 94 finished with value: 0.9163038122476086 and parameters: {'lr': 0.0017520697962433414, 'weight_decay': 0.00015700989517308944, 'n_epochs': 21, 'dropout': 0.14494770563506215}. Best is trial 77 with value: 0.9173240892487977.\n",
      "[I 2023-07-12 23:17:00,114] Trial 95 finished with value: 0.9137825765609434 and parameters: {'lr': 0.0017249993036931237, 'weight_decay': 0.004033390372612186, 'n_epochs': 26, 'dropout': 0.1494536986114392}. Best is trial 77 with value: 0.9173240892487977.\n"
     ]
    },
    {
     "name": "stderr",
     "output_type": "stream",
     "text": [
      "[I 2023-07-12 23:17:00,962] Trial 96 finished with value: 0.9112747303362362 and parameters: {'lr': 0.0018657608914495437, 'weight_decay': 0.006937806125021578, 'n_epochs': 16, 'dropout': 0.11484801329165692}. Best is trial 77 with value: 0.9173240892487977.\n",
      "[I 2023-07-12 23:17:01,987] Trial 97 finished with value: 0.9093814604153946 and parameters: {'lr': 0.002193392591200945, 'weight_decay': 0.010367315422933027, 'n_epochs': 20, 'dropout': 0.1411174078521089}. Best is trial 77 with value: 0.9173240892487977.\n",
      "[I 2023-07-12 23:17:03,215] Trial 98 finished with value: 0.9144895401523185 and parameters: {'lr': 0.001481262107621061, 'weight_decay': 0.002953429201583317, 'n_epochs': 24, 'dropout': 0.12696120062609284}. Best is trial 77 with value: 0.9173240892487977.\n",
      "[I 2023-07-12 23:17:04,599] Trial 99 finished with value: 0.9078791627837227 and parameters: {'lr': 0.0026991200708484176, 'weight_decay': 0.013839879025056906, 'n_epochs': 27, 'dropout': 0.18221238358729078}. Best is trial 77 with value: 0.9173240892487977.\n",
      "[I 2023-07-12 23:17:05,806] Trial 100 finished with value: 0.9162395428302108 and parameters: {'lr': 0.0024739560570542054, 'weight_decay': 0.0012921073240146524, 'n_epochs': 22, 'dropout': 0.1514043311776393}. Best is trial 77 with value: 0.9173240892487977.\n",
      "[I 2023-07-12 23:17:07,065] Trial 101 finished with value: 0.9157401158991826 and parameters: {'lr': 0.002497651259274608, 'weight_decay': 0.0018242008688201523, 'n_epochs': 22, 'dropout': 0.16030469257915642}. Best is trial 77 with value: 0.9173240892487977.\n",
      "[I 2023-07-12 23:17:08,100] Trial 102 finished with value: 0.9134826526130873 and parameters: {'lr': 0.0018833327360590804, 'weight_decay': 0.004121570909463078, 'n_epochs': 19, 'dropout': 0.14698996654068008}. Best is trial 77 with value: 0.9173240892487977.\n",
      "[I 2023-07-12 23:17:10,138] Trial 103 finished with value: 0.9168420686183147 and parameters: {'lr': 0.0012621623836407963, 'weight_decay': 0.00015319112010786073, 'n_epochs': 41, 'dropout': 0.11353924113647194}. Best is trial 77 with value: 0.9173240892487977.\n",
      "[I 2023-07-12 23:17:12,116] Trial 104 finished with value: 0.9122160095118739 and parameters: {'lr': 0.0010190903397093054, 'weight_decay': 0.0060254279572777595, 'n_epochs': 40, 'dropout': 0.11101447236481117}. Best is trial 77 with value: 0.9173240892487977.\n",
      "[I 2023-07-12 23:17:14,335] Trial 105 finished with value: 0.9102825712051585 and parameters: {'lr': 0.0014076819847403208, 'weight_decay': 0.009016512179275439, 'n_epochs': 45, 'dropout': 0.1253504153164099}. Best is trial 77 with value: 0.9173240892487977.\n",
      "[I 2023-07-12 23:17:15,912] Trial 106 finished with value: 0.9159302462589842 and parameters: {'lr': 0.0016602034141848113, 'weight_decay': 0.0017257861160661842, 'n_epochs': 31, 'dropout': 0.07704749064803768}. Best is trial 77 with value: 0.9173240892487977.\n",
      "[I 2023-07-12 23:17:17,912] Trial 107 finished with value: 0.9140289426609682 and parameters: {'lr': 0.0032423901398679696, 'weight_decay': 0.004194622766491034, 'n_epochs': 41, 'dropout': 0.13568832471565812}. Best is trial 77 with value: 0.9173240892487977.\n",
      "[I 2023-07-12 23:17:20,371] Trial 108 finished with value: 0.9107779812975996 and parameters: {'lr': 0.0005300456343977661, 'weight_decay': 0.007570524767263741, 'n_epochs': 50, 'dropout': 0.11836207561583387}. Best is trial 77 with value: 0.9173240892487977.\n",
      "[I 2023-07-12 23:17:21,214] Trial 109 finished with value: 0.9173441734417346 and parameters: {'lr': 0.004194980102700694, 'weight_decay': 0.0001996311118335934, 'n_epochs': 16, 'dropout': 0.10414406167639625}. Best is trial 109 with value: 0.9173441734417346.\n",
      "[I 2023-07-12 23:17:22,043] Trial 110 finished with value: 0.9174927964694666 and parameters: {'lr': 0.00474862162112576, 'weight_decay': 0.00013474112454822288, 'n_epochs': 15, 'dropout': 0.09250765766039594}. Best is trial 110 with value: 0.9174927964694666.\n",
      "[I 2023-07-12 23:17:22,904] Trial 111 finished with value: 0.9173187334640144 and parameters: {'lr': 0.004471034253594614, 'weight_decay': 0.00024094967791920774, 'n_epochs': 15, 'dropout': 0.09375270102573655}. Best is trial 110 with value: 0.9174927964694666.\n",
      "[I 2023-07-12 23:17:23,352] Trial 112 finished with value: 0.9145149801300385 and parameters: {'lr': 0.004508569385153638, 'weight_decay': 0.0032954557294369797, 'n_epochs': 8, 'dropout': 0.09525082243781222}. Best is trial 110 with value: 0.9174927964694666.\n",
      "[I 2023-07-12 23:17:24,124] Trial 113 finished with value: 0.9128961941793331 and parameters: {'lr': 0.005346318178066372, 'weight_decay': 0.005850661489751391, 'n_epochs': 15, 'dropout': 0.07877086599111388}. Best is trial 110 with value: 0.9174927964694666.\n",
      "[I 2023-07-12 23:17:24,578] Trial 114 finished with value: 0.9139365553734589 and parameters: {'lr': 0.006141321878839775, 'weight_decay': 0.003986874079385585, 'n_epochs': 7, 'dropout': 0.09640873976904617}. Best is trial 110 with value: 0.9174927964694666.\n",
      "[I 2023-07-12 23:17:26,745] Trial 115 finished with value: 0.9115425195753932 and parameters: {'lr': 0.004273107324807218, 'weight_decay': 0.007788574737418267, 'n_epochs': 44, 'dropout': 0.06010859402246663}. Best is trial 110 with value: 0.9174927964694666.\n",
      "[I 2023-07-12 23:17:27,347] Trial 116 finished with value: 0.9148363272170271 and parameters: {'lr': 0.007892027605391875, 'weight_decay': 0.002204886650703333, 'n_epochs': 10, 'dropout': 0.07762377620960806}. Best is trial 110 with value: 0.9174927964694666.\n",
      "[I 2023-07-12 23:17:27,705] Trial 117 finished with value: 0.9131693392032734 and parameters: {'lr': 0.00338298275018537, 'weight_decay': 0.00018533236556829495, 'n_epochs': 5, 'dropout': 0.10729410215324747}. Best is trial 110 with value: 0.9174927964694666.\n",
      "[I 2023-07-12 23:17:28,463] Trial 118 finished with value: 0.9093345972985422 and parameters: {'lr': 0.005255495718340965, 'weight_decay': 0.011400855671474705, 'n_epochs': 14, 'dropout': 0.08727251925677372}. Best is trial 110 with value: 0.9174927964694666.\n",
      "[I 2023-07-12 23:17:30,286] Trial 119 finished with value: 0.9127422153668177 and parameters: {'lr': 0.00285073886614013, 'weight_decay': 0.0057782668526985765, 'n_epochs': 34, 'dropout': 0.07003830431129877}. Best is trial 110 with value: 0.9174927964694666.\n",
      "[I 2023-07-12 23:17:30,850] Trial 120 finished with value: 0.9152554173763082 and parameters: {'lr': 0.003835710040736244, 'weight_decay': 0.0021142620148007526, 'n_epochs': 10, 'dropout': 0.10731191632323742}. Best is trial 110 with value: 0.9174927964694666.\n",
      "[I 2023-07-12 23:17:31,828] Trial 121 finished with value: 0.9161150208340029 and parameters: {'lr': 0.002180811933645866, 'weight_decay': 0.0006408232385767271, 'n_epochs': 19, 'dropout': 0.1263989553316931}. Best is trial 110 with value: 0.9174927964694666.\n",
      "[I 2023-07-12 23:17:32,700] Trial 122 finished with value: 0.9148162430240904 and parameters: {'lr': 0.004867176176385711, 'weight_decay': 0.0033441743298091202, 'n_epochs': 17, 'dropout': 0.11578782429484875}. Best is trial 110 with value: 0.9174927964694666.\n",
      "[I 2023-07-12 23:17:34,716] Trial 123 finished with value: 0.916890270681363 and parameters: {'lr': 0.0030323305175261658, 'weight_decay': 0.00015655551518622997, 'n_epochs': 41, 'dropout': 0.09698682270071692}. Best is trial 110 with value: 0.9174927964694666.\n",
      "[I 2023-07-12 23:17:36,529] Trial 124 finished with value: 0.9133621474554667 and parameters: {'lr': 0.006007147472833042, 'weight_decay': 0.005051294140611662, 'n_epochs': 37, 'dropout': 0.09398245221619284}. Best is trial 110 with value: 0.9174927964694666.\n",
      "[I 2023-07-12 23:17:38,516] Trial 125 finished with value: 0.9168661696498389 and parameters: {'lr': 0.0031574160480815423, 'weight_decay': 0.00013755648137056694, 'n_epochs': 40, 'dropout': 0.06842931078183867}. Best is trial 110 with value: 0.9174927964694666.\n",
      "[I 2023-07-12 23:17:40,626] Trial 126 finished with value: 0.9110377368595821 and parameters: {'lr': 0.0031719725325774707, 'weight_decay': 0.008269965168444878, 'n_epochs': 43, 'dropout': 0.0559997429686575}. Best is trial 110 with value: 0.9174927964694666.\n",
      "[I 2023-07-12 23:17:42,592] Trial 127 finished with value: 0.9155339181850318 and parameters: {'lr': 0.004315208322379086, 'weight_decay': 0.00257883018425045, 'n_epochs': 40, 'dropout': 0.06603679442157719}. Best is trial 110 with value: 0.9174927964694666.\n"
     ]
    },
    {
     "name": "stderr",
     "output_type": "stream",
     "text": [
      "[I 2023-07-12 23:17:44,817] Trial 128 finished with value: 0.9094711698105125 and parameters: {'lr': 0.007343092658266744, 'weight_decay': 0.00975198621367538, 'n_epochs': 46, 'dropout': 0.08436125071587525}. Best is trial 110 with value: 0.9174927964694666.\n",
      "[I 2023-07-12 23:17:46,654] Trial 129 finished with value: 0.9128988720717248 and parameters: {'lr': 0.0038386434426239376, 'weight_decay': 0.005938273466619745, 'n_epochs': 38, 'dropout': 0.10086961305439418}. Best is trial 110 with value: 0.9174927964694666.\n",
      "[I 2023-07-12 23:17:48,669] Trial 130 finished with value: 0.914160159388155 and parameters: {'lr': 0.00264540767009861, 'weight_decay': 0.003871214501184334, 'n_epochs': 41, 'dropout': 0.04901244725344378}. Best is trial 110 with value: 0.9174927964694666.\n",
      "[I 2023-07-12 23:17:50,358] Trial 131 finished with value: 0.9174579838683763 and parameters: {'lr': 0.0037082775469905313, 'weight_decay': 0.0003786966654844713, 'n_epochs': 34, 'dropout': 0.11153623379354709}. Best is trial 110 with value: 0.9174927964694666.\n",
      "[I 2023-07-12 23:17:52,151] Trial 132 finished with value: 0.916319879601958 and parameters: {'lr': 0.0035116139427962983, 'weight_decay': 0.0017835322964578726, 'n_epochs': 36, 'dropout': 0.0749108387845505}. Best is trial 110 with value: 0.9174927964694666.\n",
      "[I 2023-07-12 23:17:54,015] Trial 133 finished with value: 0.916764409738959 and parameters: {'lr': 0.00477708105389456, 'weight_decay': 0.00012339984905855383, 'n_epochs': 38, 'dropout': 0.10825624193467945}. Best is trial 110 with value: 0.9174927964694666.\n",
      "[I 2023-07-12 23:17:55,874] Trial 134 finished with value: 0.9170054200542006 and parameters: {'lr': 0.004638667331505788, 'weight_decay': 0.0001993652499566961, 'n_epochs': 38, 'dropout': 0.10571314704781455}. Best is trial 110 with value: 0.9174927964694666.\n",
      "[I 2023-07-12 23:17:57,498] Trial 135 finished with value: 0.9144922180447101 and parameters: {'lr': 0.005919816846160864, 'weight_decay': 0.0033318896530871223, 'n_epochs': 33, 'dropout': 0.08884413707482891}. Best is trial 110 with value: 0.9174927964694666.\n",
      "[I 2023-07-12 23:17:59,600] Trial 136 finished with value: 0.9121249611705602 and parameters: {'lr': 0.002810331986386993, 'weight_decay': 0.006714176788297511, 'n_epochs': 43, 'dropout': 0.06173433146167169}. Best is trial 110 with value: 0.9174927964694666.\n",
      "[I 2023-07-12 23:18:01,338] Trial 137 finished with value: 0.9139606564049831 and parameters: {'lr': 0.004200729417713396, 'weight_decay': 0.0045426701054259964, 'n_epochs': 35, 'dropout': 0.09719681489254015}. Best is trial 110 with value: 0.9174927964694666.\n",
      "[I 2023-07-12 23:18:03,210] Trial 138 finished with value: 0.9022997739858822 and parameters: {'lr': 0.0032586417970373333, 'weight_decay': 0.029703153900579468, 'n_epochs': 39, 'dropout': 0.11519755050118854}. Best is trial 110 with value: 0.9174927964694666.\n",
      "[I 2023-07-12 23:18:05,515] Trial 139 finished with value: 0.9146636031577707 and parameters: {'lr': 0.009498995663355915, 'weight_decay': 0.0017636279876417282, 'n_epochs': 48, 'dropout': 0.08359001274559047}. Best is trial 110 with value: 0.9174927964694666.\n",
      "[I 2023-07-12 23:18:07,572] Trial 140 finished with value: 0.915694591728526 and parameters: {'lr': 0.0024360053939955985, 'weight_decay': 0.0023031026370617775, 'n_epochs': 42, 'dropout': 0.10296554906317634}. Best is trial 110 with value: 0.9174927964694666.\n",
      "[I 2023-07-12 23:18:09,530] Trial 141 finished with value: 0.917171449382478 and parameters: {'lr': 0.004871066195080075, 'weight_decay': 0.00035930520686542375, 'n_epochs': 38, 'dropout': 0.10536690524130168}. Best is trial 110 with value: 0.9174927964694666.\n",
      "[I 2023-07-12 23:18:11,447] Trial 142 finished with value: 0.91523265529098 and parameters: {'lr': 0.007281166464072936, 'weight_decay': 0.00012712348530185652, 'n_epochs': 37, 'dropout': 0.1313876203428445}. Best is trial 110 with value: 0.9174927964694666.\n",
      "[I 2023-07-12 23:18:13,054] Trial 143 finished with value: 0.9140932120783658 and parameters: {'lr': 0.005065468306079586, 'weight_decay': 0.00432453011209822, 'n_epochs': 32, 'dropout': 0.1179298780534697}. Best is trial 110 with value: 0.9174927964694666.\n",
      "[I 2023-07-12 23:18:15,088] Trial 144 finished with value: 0.9159717535910537 and parameters: {'lr': 0.0036128068760723814, 'weight_decay': 0.0020527784989416518, 'n_epochs': 41, 'dropout': 0.09033408772121433}. Best is trial 110 with value: 0.9174927964694666.\n",
      "[I 2023-07-12 23:18:16,959] Trial 145 finished with value: 0.9125761860385402 and parameters: {'lr': 0.0060281886011540635, 'weight_decay': 0.005987386771331989, 'n_epochs': 35, 'dropout': 0.07563908931138531}. Best is trial 110 with value: 0.9174927964694666.\n",
      "[I 2023-07-12 23:18:18,844] Trial 146 finished with value: 0.9168956264661461 and parameters: {'lr': 0.00428860853518512, 'weight_decay': 0.00015324567491383666, 'n_epochs': 39, 'dropout': 0.10917227744245112}. Best is trial 110 with value: 0.9174927964694666.\n",
      "[I 2023-07-12 23:18:20,948] Trial 147 finished with value: 0.9143127992544748 and parameters: {'lr': 0.0029044764344512554, 'weight_decay': 0.0037766436283969028, 'n_epochs': 44, 'dropout': 0.10503586191117932}. Best is trial 110 with value: 0.9174927964694666.\n",
      "[I 2023-07-12 23:18:22,869] Trial 148 finished with value: 0.9171232473194296 and parameters: {'lr': 0.0022007832969944685, 'weight_decay': 0.00016795979694001392, 'n_epochs': 39, 'dropout': 0.06719826175557442}. Best is trial 110 with value: 0.9174927964694666.\n",
      "[I 2023-07-12 23:18:25,072] Trial 149 finished with value: 0.9065495892113071 and parameters: {'lr': 0.002396506595622767, 'weight_decay': 0.01700734276058057, 'n_epochs': 46, 'dropout': 0.06905688580340585}. Best is trial 110 with value: 0.9174927964694666.\n",
      "[I 2023-07-12 23:18:27,022] Trial 150 finished with value: 0.9116911426031256 and parameters: {'lr': 0.004245510001180403, 'weight_decay': 0.007557495083458018, 'n_epochs': 40, 'dropout': 0.05116328953931455}. Best is trial 110 with value: 0.9174927964694666.\n",
      "[I 2023-07-12 23:18:28,900] Trial 151 finished with value: 0.9170469273862698 and parameters: {'lr': 0.0021208531727132675, 'weight_decay': 0.0002940580502966517, 'n_epochs': 38, 'dropout': 0.09409525669512767}. Best is trial 110 with value: 0.9174927964694666.\n",
      "[I 2023-07-12 23:18:30,761] Trial 152 finished with value: 0.9157146759214627 and parameters: {'lr': 0.002091247114767713, 'weight_decay': 0.0021588677459661253, 'n_epochs': 38, 'dropout': 0.03343721576159539}. Best is trial 110 with value: 0.9174927964694666.\n",
      "[I 2023-07-12 23:18:32,784] Trial 153 finished with value: 0.9167054961063444 and parameters: {'lr': 0.0030186140704419277, 'weight_decay': 0.00011082991054410063, 'n_epochs': 42, 'dropout': 0.08199456891728606}. Best is trial 110 with value: 0.9174927964694666.\n",
      "[I 2023-07-12 23:18:34,693] Trial 154 finished with value: 0.9136781387576722 and parameters: {'lr': 0.002254396849272004, 'weight_decay': 0.004350975831528118, 'n_epochs': 35, 'dropout': 0.06324106648253294}. Best is trial 110 with value: 0.9174927964694666.\n",
      "[I 2023-07-12 23:18:35,318] Trial 155 finished with value: 0.9153330762556637 and parameters: {'lr': 0.003644790780336033, 'weight_decay': 0.0022252134327825188, 'n_epochs': 12, 'dropout': 0.0952178987854861}. Best is trial 110 with value: 0.9174927964694666.\n",
      "[I 2023-07-12 23:18:37,271] Trial 156 finished with value: 0.9170388937090951 and parameters: {'lr': 0.001518581454671119, 'weight_decay': 0.00011967405928209394, 'n_epochs': 40, 'dropout': 0.11916833166240871}. Best is trial 110 with value: 0.9174927964694666.\n",
      "[I 2023-07-12 23:18:39,123] Trial 157 finished with value: 0.8959732532107929 and parameters: {'lr': 0.0020002758737792782, 'weight_decay': 0.05431309458040236, 'n_epochs': 37, 'dropout': 0.1254672899643241}. Best is trial 110 with value: 0.9174927964694666.\n",
      "[I 2023-07-12 23:18:41,050] Trial 158 finished with value: 0.9129577857043393 and parameters: {'lr': 0.002563185208727579, 'weight_decay': 0.005359408163459916, 'n_epochs': 39, 'dropout': 0.08844994672729298}. Best is trial 110 with value: 0.9174927964694666.\n",
      "[I 2023-07-12 23:18:42,738] Trial 159 finished with value: 0.9148108872393073 and parameters: {'lr': 0.001650431421449537, 'weight_decay': 0.0029675221988002915, 'n_epochs': 34, 'dropout': 0.07308001671504082}. Best is trial 110 with value: 0.9174927964694666.\n"
     ]
    },
    {
     "name": "stderr",
     "output_type": "stream",
     "text": [
      "[I 2023-07-12 23:18:45,164] Trial 160 finished with value: 0.9105624109600781 and parameters: {'lr': 0.0031166223349714563, 'weight_decay': 0.009070621685564134, 'n_epochs': 50, 'dropout': 0.09753750059036707}. Best is trial 110 with value: 0.9174927964694666.\n",
      "[I 2023-07-12 23:18:47,342] Trial 161 finished with value: 0.916890270681363 and parameters: {'lr': 0.0013464376719306446, 'weight_decay': 0.00012012208320110802, 'n_epochs': 44, 'dropout': 0.10902238228675876}. Best is trial 110 with value: 0.9174927964694666.\n",
      "[I 2023-07-12 23:18:49,471] Trial 162 finished with value: 0.9159115010122433 and parameters: {'lr': 0.0039429276178815425, 'weight_decay': 0.002167905007125993, 'n_epochs': 44, 'dropout': 0.10648650362934048}. Best is trial 110 with value: 0.9174927964694666.\n",
      "[I 2023-07-12 23:18:51,402] Trial 163 finished with value: 0.9136942061120217 and parameters: {'lr': 0.0015288499284059442, 'weight_decay': 0.004286888988727509, 'n_epochs': 40, 'dropout': 0.11800192481491638}. Best is trial 110 with value: 0.9174927964694666.\n",
      "[I 2023-07-12 23:18:54,682] Trial 164 finished with value: 0.9165582120248079 and parameters: {'lr': 0.0020267642995995218, 'weight_decay': 0.00016077020660644963, 'n_epochs': 69, 'dropout': 0.08111104724318113}. Best is trial 110 with value: 0.9174927964694666.\n",
      "[I 2023-07-12 23:18:57,052] Trial 165 finished with value: 0.9160614629861713 and parameters: {'lr': 0.0046034569971840295, 'weight_decay': 0.0020783611480136833, 'n_epochs': 45, 'dropout': 0.08997976611964871}. Best is trial 110 with value: 0.9174927964694666.\n",
      "[I 2023-07-12 23:18:59,112] Trial 166 finished with value: 0.912664556487462 and parameters: {'lr': 0.00279847938968963, 'weight_decay': 0.00577608923946411, 'n_epochs': 42, 'dropout': 0.1219693205379749}. Best is trial 110 with value: 0.9174927964694666.\n",
      "[I 2023-07-12 23:19:00,993] Trial 167 finished with value: 0.9143020876849083 and parameters: {'lr': 0.0014146090495886492, 'weight_decay': 0.0036133819022160073, 'n_epochs': 38, 'dropout': 0.1076488588666137}. Best is trial 110 with value: 0.9174927964694666.\n",
      "[I 2023-07-12 23:19:02,763] Trial 168 finished with value: 0.9053967565367355 and parameters: {'lr': 0.0034878458971944752, 'weight_decay': 0.020820620031353217, 'n_epochs': 36, 'dropout': 0.06193079285754156}. Best is trial 110 with value: 0.9174927964694666.\n",
      "[I 2023-07-12 23:19:05,089] Trial 169 finished with value: 0.9160105830307315 and parameters: {'lr': 0.0055631711631528484, 'weight_decay': 0.0001752809153596222, 'n_epochs': 47, 'dropout': 0.13075481958211124}. Best is trial 110 with value: 0.9174927964694666.\n",
      "[I 2023-07-12 23:19:05,877] Trial 170 finished with value: 0.9110859389226302 and parameters: {'lr': 0.0019248330299704187, 'weight_decay': 0.007296617416798894, 'n_epochs': 15, 'dropout': 0.0937067100889673}. Best is trial 110 with value: 0.9174927964694666.\n",
      "[I 2023-07-12 23:19:07,883] Trial 171 finished with value: 0.9158204526709299 and parameters: {'lr': 0.0012607064016388772, 'weight_decay': 0.0018893825177862971, 'n_epochs': 40, 'dropout': 0.11446724054684194}. Best is trial 110 with value: 0.9174927964694666.\n",
      "[I 2023-07-12 23:19:09,901] Trial 172 finished with value: 0.9165341109932839 and parameters: {'lr': 0.0010129747105955351, 'weight_decay': 0.0002946414321878505, 'n_epochs': 41, 'dropout': 0.1098608698198372}. Best is trial 110 with value: 0.9174927964694666.\n",
      "[I 2023-07-12 23:19:14,142] Trial 173 finished with value: 0.9146877041892948 and parameters: {'lr': 0.0024216482903428134, 'weight_decay': 0.0032774350318981378, 'n_epochs': 88, 'dropout': 0.1012819056040372}. Best is trial 110 with value: 0.9174927964694666.\n",
      "[I 2023-07-12 23:19:16,290] Trial 174 finished with value: 0.9160038882997528 and parameters: {'lr': 0.0015646218947160137, 'weight_decay': 0.0018222782675220539, 'n_epochs': 43, 'dropout': 0.07741114020640652}. Best is trial 110 with value: 0.9174927964694666.\n",
      "[I 2023-07-12 23:19:18,149] Trial 175 finished with value: 0.9172116177683516 and parameters: {'lr': 0.004401851182577258, 'weight_decay': 0.0002018356041201894, 'n_epochs': 37, 'dropout': 0.13293910069549153}. Best is trial 110 with value: 0.9174927964694666.\n",
      "[I 2023-07-12 23:19:19,944] Trial 176 finished with value: 0.9138214060006212 and parameters: {'lr': 0.004672071019777432, 'weight_decay': 0.004769562901868988, 'n_epochs': 36, 'dropout': 0.13470130192312643}. Best is trial 110 with value: 0.9174927964694666.\n",
      "[I 2023-07-12 23:19:21,795] Trial 177 finished with value: 0.9047487065779749 and parameters: {'lr': 0.004039399538415633, 'weight_decay': 0.022770042729191423, 'n_epochs': 38, 'dropout': 0.26725988285187996}. Best is trial 110 with value: 0.9174927964694666.\n",
      "[I 2023-07-12 23:19:23,434] Trial 178 finished with value: 0.9170429105476825 and parameters: {'lr': 0.003145907249370007, 'weight_decay': 0.00013165937694861157, 'n_epochs': 33, 'dropout': 0.12351631480589671}. Best is trial 110 with value: 0.9174927964694666.\n",
      "[I 2023-07-12 23:19:25,070] Trial 179 finished with value: 0.9147667020148462 and parameters: {'lr': 0.005275571288290704, 'weight_decay': 0.0033691643899727815, 'n_epochs': 33, 'dropout': 0.12212260326163571}. Best is trial 110 with value: 0.9174927964694666.\n",
      "[I 2023-07-12 23:19:27,607] Trial 180 finished with value: 0.9009728783058581 and parameters: {'lr': 0.003549755822618507, 'weight_decay': 0.03561536087009119, 'n_epochs': 53, 'dropout': 0.13832470090956395}. Best is trial 110 with value: 0.9174927964694666.\n",
      "[I 2023-07-12 23:19:29,412] Trial 181 finished with value: 0.9170455884400741 and parameters: {'lr': 0.0029660176484331098, 'weight_decay': 0.0002537042141565361, 'n_epochs': 37, 'dropout': 0.10037608225344315}. Best is trial 110 with value: 0.9174927964694666.\n",
      "[I 2023-07-12 23:19:31,203] Trial 182 finished with value: 0.9160025493535567 and parameters: {'lr': 0.0027592200490881695, 'weight_decay': 0.0019175726983997638, 'n_epochs': 37, 'dropout': 0.09928179649404013}. Best is trial 110 with value: 0.9174927964694666.\n",
      "[I 2023-07-12 23:19:32,825] Trial 183 finished with value: 0.9172932934862946 and parameters: {'lr': 0.004217417148690271, 'weight_decay': 0.0001479578506831223, 'n_epochs': 33, 'dropout': 0.11290194360302691}. Best is trial 110 with value: 0.9174927964694666.\n",
      "[I 2023-07-12 23:19:34,273] Trial 184 finished with value: 0.9127703332369291 and parameters: {'lr': 0.004186970068332206, 'weight_decay': 0.006038457970704832, 'n_epochs': 29, 'dropout': 0.1258645881502367}. Best is trial 110 with value: 0.9174927964694666.\n",
      "[I 2023-07-12 23:19:35,789] Trial 185 finished with value: 0.9156785243741766 and parameters: {'lr': 0.0059965487509234736, 'weight_decay': 0.0022159855027416653, 'n_epochs': 31, 'dropout': 0.11394576785439062}. Best is trial 110 with value: 0.9174927964694666.\n",
      "[I 2023-07-12 23:19:37,432] Trial 186 finished with value: 0.9138883533104107 and parameters: {'lr': 0.0030359078675233613, 'weight_decay': 0.004334783110026872, 'n_epochs': 33, 'dropout': 0.09123132749559457}. Best is trial 110 with value: 0.9174927964694666.\n",
      "[I 2023-07-12 23:19:39,127] Trial 187 finished with value: 0.9162368649378193 and parameters: {'lr': 0.0046395869435618105, 'weight_decay': 0.0019582755575300237, 'n_epochs': 35, 'dropout': 0.13218830759758102}. Best is trial 110 with value: 0.9174927964694666.\n",
      "[I 2023-07-12 23:19:40,710] Trial 188 finished with value: 0.8930530115577835 and parameters: {'lr': 0.0036419058472182513, 'weight_decay': 0.0790661642666364, 'n_epochs': 32, 'dropout': 0.09873992706711025}. Best is trial 110 with value: 0.9174927964694666.\n",
      "[I 2023-07-12 23:19:42,408] Trial 189 finished with value: 0.9159141789046349 and parameters: {'lr': 0.006981460602601045, 'weight_decay': 0.00015911420232671755, 'n_epochs': 34, 'dropout': 0.08471147092142765}. Best is trial 110 with value: 0.9174927964694666.\n",
      "[I 2023-07-12 23:19:43,305] Trial 190 finished with value: 0.9139767237593325 and parameters: {'lr': 0.002298907527815649, 'weight_decay': 0.003573268308373681, 'n_epochs': 17, 'dropout': 0.11820257376233073}. Best is trial 110 with value: 0.9174927964694666.\n",
      "[I 2023-07-12 23:19:45,173] Trial 191 finished with value: 0.9162877448932591 and parameters: {'lr': 0.0042546608518928145, 'weight_decay': 0.001845787935461044, 'n_epochs': 38, 'dropout': 0.10845512350736139}. Best is trial 110 with value: 0.9174927964694666.\n"
     ]
    },
    {
     "name": "stderr",
     "output_type": "stream",
     "text": [
      "[I 2023-07-12 23:19:47,120] Trial 192 finished with value: 0.9170750452563814 and parameters: {'lr': 0.0032362531548305387, 'weight_decay': 0.0002442045357600012, 'n_epochs': 39, 'dropout': 0.10649374577020058}. Best is trial 110 with value: 0.9174927964694666.\n",
      "[I 2023-07-12 23:19:48,904] Trial 193 finished with value: 0.9024350075516565 and parameters: {'lr': 0.003206262507107036, 'weight_decay': 0.029196017438308304, 'n_epochs': 36, 'dropout': 0.09937966962111812}. Best is trial 110 with value: 0.9174927964694666.\n",
      "[I 2023-07-12 23:19:50,814] Trial 194 finished with value: 0.916846085456902 and parameters: {'lr': 0.0025158827891039446, 'weight_decay': 0.00014940062803736666, 'n_epochs': 39, 'dropout': 0.12213596189255402}. Best is trial 110 with value: 0.9174927964694666.\n",
      "[I 2023-07-12 23:19:52,636] Trial 195 finished with value: 0.8989818653127243 and parameters: {'lr': 0.005527945507116201, 'weight_decay': 0.04264419924203393, 'n_epochs': 37, 'dropout': 0.08386848486026591}. Best is trial 110 with value: 0.9174927964694666.\n",
      "[I 2023-07-12 23:19:54,308] Trial 196 finished with value: 0.9146140621485264 and parameters: {'lr': 0.0036130656375375366, 'weight_decay': 0.0036449207770065696, 'n_epochs': 34, 'dropout': 0.10670345345910409}. Best is trial 110 with value: 0.9174927964694666.\n",
      "[I 2023-07-12 23:19:56,246] Trial 197 finished with value: 0.9129952761978213 and parameters: {'lr': 0.004817780673276433, 'weight_decay': 0.005853843375549871, 'n_epochs': 39, 'dropout': 0.13768816418398083}. Best is trial 110 with value: 0.9174927964694666.\n",
      "[I 2023-07-12 23:19:58,267] Trial 198 finished with value: 0.9161123429416114 and parameters: {'lr': 0.002934462393618733, 'weight_decay': 0.0018103118646612332, 'n_epochs': 41, 'dropout': 0.09428913332642166}. Best is trial 110 with value: 0.9174927964694666.\n",
      "[I 2023-07-12 23:20:00,159] Trial 199 finished with value: 0.9141762267425045 and parameters: {'lr': 0.001971252348171092, 'weight_decay': 0.0037847157632045336, 'n_epochs': 36, 'dropout': 0.07483380014064234}. Best is trial 110 with value: 0.9174927964694666.\n",
      "[I 2023-07-12 23:20:01,609] Trial 200 finished with value: 0.9162154417986867 and parameters: {'lr': 0.0039262836275643755, 'weight_decay': 0.001937754279564041, 'n_epochs': 28, 'dropout': 0.11537595099787329}. Best is trial 110 with value: 0.9174927964694666.\n",
      "[I 2023-07-12 23:20:03,757] Trial 201 finished with value: 0.9171018241802971 and parameters: {'lr': 0.0025746180331066163, 'weight_decay': 0.0006211759552246748, 'n_epochs': 44, 'dropout': 0.10789357281549575}. Best is trial 110 with value: 0.9174927964694666.\n",
      "[I 2023-07-12 23:20:05,835] Trial 202 finished with value: 0.916977302184089 and parameters: {'lr': 0.002564061618278578, 'weight_decay': 0.00032752189355565503, 'n_epochs': 42, 'dropout': 0.10233495158619278}. Best is trial 110 with value: 0.9174927964694666.\n",
      "[I 2023-07-12 23:20:07,974] Trial 203 finished with value: 0.9158807052497402 and parameters: {'lr': 0.0022984922511495127, 'weight_decay': 0.002119222233094077, 'n_epochs': 43, 'dropout': 0.1279659462075592}. Best is trial 110 with value: 0.9174927964694666.\n",
      "[I 2023-07-12 23:20:09,871] Trial 204 finished with value: 0.9169558790449566 and parameters: {'lr': 0.0027163777221101823, 'weight_decay': 0.0001826043901196932, 'n_epochs': 38, 'dropout': 0.10535494804722256}. Best is trial 110 with value: 0.9174927964694666.\n",
      "[I 2023-07-12 23:20:11,774] Trial 205 finished with value: 0.9130501729918487 and parameters: {'lr': 0.002672495857828955, 'weight_decay': 0.005247476373865616, 'n_epochs': 38, 'dropout': 0.10787341205975037}. Best is trial 110 with value: 0.9174927964694666.\n",
      "[I 2023-07-12 23:20:14,787] Trial 206 finished with value: 0.9148443608942018 and parameters: {'lr': 0.0033752192660224983, 'weight_decay': 0.0033354910628697852, 'n_epochs': 62, 'dropout': 0.11900322104652347}. Best is trial 110 with value: 0.9174927964694666.\n",
      "[I 2023-07-12 23:20:16,593] Trial 207 finished with value: 0.9169170496052785 and parameters: {'lr': 0.004469108083983602, 'weight_decay': 0.0001232530493429636, 'n_epochs': 36, 'dropout': 0.10446319811444957}. Best is trial 110 with value: 0.9174927964694666.\n",
      "[I 2023-07-12 23:20:18,304] Trial 208 finished with value: 0.9162971175166297 and parameters: {'lr': 0.006102131266020121, 'weight_decay': 0.00012763305584703017, 'n_epochs': 35, 'dropout': 0.09150719711191964}. Best is trial 110 with value: 0.9174927964694666.\n",
      "[I 2023-07-12 23:20:19,912] Trial 209 finished with value: 0.9115438585215893 and parameters: {'lr': 0.0018367899877662576, 'weight_decay': 0.007090531926222045, 'n_epochs': 32, 'dropout': 0.10166269156141493}. Best is trial 110 with value: 0.9174927964694666.\n",
      "[I 2023-07-12 23:20:20,620] Trial 210 finished with value: 0.915869993680174 and parameters: {'lr': 0.005244798442655713, 'weight_decay': 0.002179446823961055, 'n_epochs': 13, 'dropout': 0.12801000296669046}. Best is trial 110 with value: 0.9174927964694666.\n",
      "[I 2023-07-12 23:20:22,547] Trial 211 finished with value: 0.9164243174052293 and parameters: {'lr': 0.00429512479432113, 'weight_decay': 0.0017502010547659514, 'n_epochs': 39, 'dropout': 0.11313011882646952}. Best is trial 110 with value: 0.9174927964694666.\n",
      "[I 2023-07-12 23:20:24,406] Trial 212 finished with value: 0.917133958888996 and parameters: {'lr': 0.0037584930301665536, 'weight_decay': 0.0001621082875136656, 'n_epochs': 37, 'dropout': 0.10359221012675758}. Best is trial 110 with value: 0.9174927964694666.\n",
      "[I 2023-07-12 23:20:26,231] Trial 213 finished with value: 0.9170683505254025 and parameters: {'lr': 0.0034983500055970336, 'weight_decay': 0.00013350015593314665, 'n_epochs': 36, 'dropout': 0.10137272509662225}. Best is trial 110 with value: 0.9174927964694666.\n",
      "[I 2023-07-12 23:20:27,937] Trial 214 finished with value: 0.9144868622599268 and parameters: {'lr': 0.0034121257606890775, 'weight_decay': 0.0037100552320312977, 'n_epochs': 34, 'dropout': 0.08915071763205007}. Best is trial 110 with value: 0.9174927964694666.\n",
      "[I 2023-07-12 23:20:29,778] Trial 215 finished with value: 0.9158445537024541 and parameters: {'lr': 0.0027633301876133476, 'weight_decay': 0.002091009139038231, 'n_epochs': 37, 'dropout': 0.09848049276034725}. Best is trial 110 with value: 0.9174927964694666.\n",
      "[I 2023-07-12 23:20:31,768] Trial 216 finished with value: 0.9032008847756462 and parameters: {'lr': 0.002159013811701625, 'weight_decay': 0.025474697482246192, 'n_epochs': 41, 'dropout': 0.08325544049411618}. Best is trial 110 with value: 0.9174927964694666.\n",
      "[I 2023-07-12 23:20:33,526] Trial 217 finished with value: 0.9135937851473377 and parameters: {'lr': 0.0033638899369213236, 'weight_decay': 0.004679987920097714, 'n_epochs': 37, 'dropout': 0.14077176092006402}. Best is trial 110 with value: 0.9174927964694666.\n",
      "[I 2023-07-12 23:20:35,036] Trial 218 finished with value: 0.9157695727154901 and parameters: {'lr': 0.002468466073197291, 'weight_decay': 0.0020730131754470842, 'n_epochs': 31, 'dropout': 0.11983004676947609}. Best is trial 110 with value: 0.9174927964694666.\n",
      "[I 2023-07-12 23:20:36,952] Trial 219 finished with value: 0.9144734727979692 and parameters: {'lr': 0.0037434588427105973, 'weight_decay': 0.0038044279461519233, 'n_epochs': 40, 'dropout': 0.10990296434376552}. Best is trial 110 with value: 0.9174927964694666.\n",
      "[I 2023-07-12 23:20:38,601] Trial 220 finished with value: 0.9066031470591386 and parameters: {'lr': 0.003058703427145514, 'weight_decay': 0.017259759335966535, 'n_epochs': 34, 'dropout': 0.09266749434109782}. Best is trial 110 with value: 0.9174927964694666.\n",
      "[I 2023-07-12 23:20:40,339] Trial 221 finished with value: 0.9170790620949687 and parameters: {'lr': 0.004418620500110523, 'weight_decay': 0.00013274979259911458, 'n_epochs': 35, 'dropout': 0.10504679219773473}. Best is trial 110 with value: 0.9174927964694666.\n",
      "[I 2023-07-12 23:20:42,204] Trial 222 finished with value: 0.9168621528112514 and parameters: {'lr': 0.005349641576963841, 'weight_decay': 0.00020283614149391245, 'n_epochs': 38, 'dropout': 0.10260861141825946}. Best is trial 110 with value: 0.9174927964694666.\n",
      "[I 2023-07-12 23:20:43,953] Trial 223 finished with value: 0.9163506753644611 and parameters: {'lr': 0.003977205797464841, 'weight_decay': 0.0018646199855468296, 'n_epochs': 36, 'dropout': 0.11759137372753949}. Best is trial 110 with value: 0.9174927964694666.\n"
     ]
    },
    {
     "name": "stderr",
     "output_type": "stream",
     "text": [
      "[I 2023-07-12 23:20:45,623] Trial 224 finished with value: 0.9156330002035199 and parameters: {'lr': 0.007181832833714409, 'weight_decay': 0.00012510889118169983, 'n_epochs': 35, 'dropout': 0.10129861689160491}. Best is trial 110 with value: 0.9174927964694666.\n",
      "[I 2023-07-12 23:20:47,610] Trial 225 finished with value: 0.9166385487965553 and parameters: {'lr': 0.004971566674992907, 'weight_decay': 0.00011288467923552392, 'n_epochs': 39, 'dropout': 0.08326180166100598}. Best is trial 110 with value: 0.9174927964694666.\n",
      "[I 2023-07-12 23:20:49,665] Trial 226 finished with value: 0.9030495838555224 and parameters: {'lr': 0.002776511294259251, 'weight_decay': 0.026608075920417404, 'n_epochs': 42, 'dropout': 0.12644469726896265}. Best is trial 110 with value: 0.9174927964694666.\n",
      "[I 2023-07-12 23:20:51,268] Trial 227 finished with value: 0.9002418136829589 and parameters: {'lr': 0.0033782138778491603, 'weight_decay': 0.03806889626449052, 'n_epochs': 33, 'dropout': 0.11305637558965846}. Best is trial 110 with value: 0.9174927964694666.\n",
      "[I 2023-07-12 23:20:52,152] Trial 228 finished with value: 0.9137598144756152 and parameters: {'lr': 0.002130988427599672, 'weight_decay': 0.0035550564674968954, 'n_epochs': 15, 'dropout': 0.08911093874923691}. Best is trial 110 with value: 0.9174927964694666.\n",
      "[I 2023-07-12 23:20:54,202] Trial 229 finished with value: 0.9012567348993648 and parameters: {'lr': 0.00397618915336525, 'weight_decay': 0.03448289832719802, 'n_epochs': 37, 'dropout': 0.14915085397342845}. Best is trial 110 with value: 0.9174927964694666.\n",
      "[I 2023-07-12 23:20:56,235] Trial 230 finished with value: 0.9018699722570349 and parameters: {'lr': 0.00470468444043476, 'weight_decay': 0.032085796323910704, 'n_epochs': 40, 'dropout': 0.16785763765019132}. Best is trial 110 with value: 0.9174927964694666.\n",
      "[I 2023-07-12 23:20:57,969] Trial 231 finished with value: 0.9171299420504087 and parameters: {'lr': 0.0045073766805433565, 'weight_decay': 0.0001814825484097446, 'n_epochs': 35, 'dropout': 0.10453904078469249}. Best is trial 110 with value: 0.9174927964694666.\n",
      "[I 2023-07-12 23:20:59,697] Trial 232 finished with value: 0.9156945917285262 and parameters: {'lr': 0.005914167217329029, 'weight_decay': 0.0022134402359194716, 'n_epochs': 35, 'dropout': 0.10661342106301441}. Best is trial 110 with value: 0.9174927964694666.\n",
      "[I 2023-07-12 23:21:00,363] Trial 233 finished with value: 0.8753990059663441 and parameters: {'lr': 8.768382551962749e-05, 'weight_decay': 0.001839974963104713, 'n_epochs': 11, 'dropout': 0.09890788725478514}. Best is trial 110 with value: 0.9174927964694666.\n",
      "[I 2023-07-12 23:21:02,454] Trial 234 finished with value: 0.9160172777617104 and parameters: {'lr': 0.003926382321248209, 'weight_decay': 0.002056417725105023, 'n_epochs': 38, 'dropout': 0.36705873065473227}. Best is trial 110 with value: 0.9174927964694666.\n",
      "[I 2023-07-12 23:21:04,010] Trial 235 finished with value: 0.9171326199428002 and parameters: {'lr': 0.0029234227427983373, 'weight_decay': 0.0001846464039422473, 'n_epochs': 32, 'dropout': 0.12191537911599246}. Best is trial 110 with value: 0.9174927964694666.\n",
      "[I 2023-07-12 23:21:05,622] Trial 236 finished with value: 0.90833440449029 and parameters: {'lr': 0.004602620519378807, 'weight_decay': 0.013932023842300259, 'n_epochs': 31, 'dropout': 0.12360827125391025}. Best is trial 110 with value: 0.9174927964694666.\n",
      "[I 2023-07-12 23:21:07,252] Trial 237 finished with value: 0.9133621474554666 and parameters: {'lr': 0.003250571192626789, 'weight_decay': 0.005091752303178713, 'n_epochs': 33, 'dropout': 0.13198246868972532}. Best is trial 110 with value: 0.9174927964694666.\n",
      "[I 2023-07-12 23:21:08,992] Trial 238 finished with value: 0.914442677035466 and parameters: {'lr': 0.001736057498034463, 'weight_decay': 0.003360812913045996, 'n_epochs': 36, 'dropout': 0.44751540360530606}. Best is trial 110 with value: 0.9174927964694666.\n",
      "[I 2023-07-12 23:21:09,926] Trial 239 finished with value: 0.9162422207226024 and parameters: {'lr': 0.0037181546832618785, 'weight_decay': 0.0016482083472803954, 'n_epochs': 18, 'dropout': 0.11555845052705199}. Best is trial 110 with value: 0.9174927964694666.\n",
      "[I 2023-07-12 23:21:11,575] Trial 240 finished with value: 0.9051222725665993 and parameters: {'lr': 0.005211868147899109, 'weight_decay': 0.021439407499988423, 'n_epochs': 34, 'dropout': 0.09375313386672292}. Best is trial 110 with value: 0.9174927964694666.\n",
      "[I 2023-07-12 23:21:13,406] Trial 241 finished with value: 0.9168835759503839 and parameters: {'lr': 0.0027505321292090874, 'weight_decay': 0.00014576188218804495, 'n_epochs': 38, 'dropout': 0.10867209759210668}. Best is trial 110 with value: 0.9174927964694666.\n",
      "[I 2023-07-12 23:21:15,345] Trial 242 finished with value: 0.9161973660250436 and parameters: {'lr': 0.002340115367908134, 'weight_decay': 0.001687744967257927, 'n_epochs': 40, 'dropout': 0.10300043327902761}. Best is trial 110 with value: 0.9174927964694666.\n",
      "[I 2023-07-12 23:21:16,825] Trial 243 finished with value: 0.9171379757275834 and parameters: {'lr': 0.0029755991208687874, 'weight_decay': 0.00044249376987985395, 'n_epochs': 30, 'dropout': 0.11880854939167172}. Best is trial 110 with value: 0.9174927964694666.\n",
      "[I 2023-07-12 23:21:18,291] Trial 244 finished with value: 0.9148068704007198 and parameters: {'lr': 0.0031884155898238985, 'weight_decay': 0.003276205700780615, 'n_epochs': 30, 'dropout': 0.12128785527274372}. Best is trial 110 with value: 0.9174927964694666.\n",
      "[I 2023-07-12 23:21:19,640] Trial 245 finished with value: 0.9162850670008675 and parameters: {'lr': 0.004413071813287395, 'weight_decay': 0.001826172227901992, 'n_epochs': 27, 'dropout': 0.11649545411345857}. Best is trial 110 with value: 0.9174927964694666.\n",
      "[I 2023-07-12 23:21:21,161] Trial 246 finished with value: 0.9172919545400987 and parameters: {'lr': 0.0037791163795336358, 'weight_decay': 0.0001259752080341354, 'n_epochs': 32, 'dropout': 0.1367662411624749}. Best is trial 110 with value: 0.9174927964694666.\n",
      "[I 2023-07-12 23:21:22,772] Trial 247 finished with value: 0.9135442441380935 and parameters: {'lr': 0.0038352307468755534, 'weight_decay': 0.005111672099079542, 'n_epochs': 30, 'dropout': 0.14761265202759766}. Best is trial 110 with value: 0.9174927964694666.\n",
      "[I 2023-07-12 23:21:24,291] Trial 248 finished with value: 0.8955581798900993 and parameters: {'lr': 0.006319721307672166, 'weight_decay': 0.05423216556361096, 'n_epochs': 29, 'dropout': 0.13636133178386514}. Best is trial 110 with value: 0.9174927964694666.\n",
      "[I 2023-07-12 23:21:25,860] Trial 249 finished with value: 0.8988104801996637 and parameters: {'lr': 0.004934005662786653, 'weight_decay': 0.04488308477569513, 'n_epochs': 32, 'dropout': 0.13003740237562605}. Best is trial 110 with value: 0.9174927964694666.\n",
      "[I 2023-07-12 23:21:27,440] Trial 250 finished with value: 0.8701021348158144 and parameters: {'lr': 1.8177599796177442e-05, 'weight_decay': 0.0028542846473558242, 'n_epochs': 33, 'dropout': 0.14056057354627127}. Best is trial 110 with value: 0.9174927964694666.\n",
      "[I 2023-07-12 23:21:29,163] Trial 251 finished with value: 0.9172745482395535 and parameters: {'lr': 0.00345713231531568, 'weight_decay': 0.0003327228126952267, 'n_epochs': 35, 'dropout': 0.1245736826014717}. Best is trial 110 with value: 0.9174927964694666.\n",
      "[I 2023-07-12 23:21:30,711] Trial 252 finished with value: 0.9058493203509109 and parameters: {'lr': 0.003690091615188809, 'weight_decay': 0.019695535415125885, 'n_epochs': 32, 'dropout': 0.18070078718650298}. Best is trial 110 with value: 0.9174927964694666.\n",
      "[I 2023-07-12 23:21:32,406] Trial 253 finished with value: 0.9145002517218848 and parameters: {'lr': 0.0044633582807619655, 'weight_decay': 0.003844627641072174, 'n_epochs': 35, 'dropout': 0.12936053622521435}. Best is trial 110 with value: 0.9174927964694666.\n",
      "[I 2023-07-12 23:21:34,175] Trial 254 finished with value: 0.9161257324035692 and parameters: {'lr': 0.0031949566567325964, 'weight_decay': 0.001820337305962412, 'n_epochs': 35, 'dropout': 0.1212697940991842}. Best is trial 110 with value: 0.9174927964694666.\n",
      "[I 2023-07-12 23:21:35,765] Trial 255 finished with value: 0.9128064847842156 and parameters: {'lr': 0.0056545605392754154, 'weight_decay': 0.005943013701884811, 'n_epochs': 32, 'dropout': 0.1584838874494519}. Best is trial 110 with value: 0.9174927964694666.\n"
     ]
    },
    {
     "name": "stderr",
     "output_type": "stream",
     "text": [
      "[I 2023-07-12 23:21:37,507] Trial 256 finished with value: 0.9018083807320287 and parameters: {'lr': 0.056081651846978615, 'weight_decay': 0.0001396228462661925, 'n_epochs': 36, 'dropout': 0.20595749143189862}. Best is trial 110 with value: 0.9174927964694666.\n",
      "[I 2023-07-12 23:21:39,149] Trial 257 finished with value: 0.9135469220304853 and parameters: {'lr': 0.008308337041285105, 'weight_decay': 0.0034670012824989586, 'n_epochs': 34, 'dropout': 0.11540744944944738}. Best is trial 110 with value: 0.9174927964694666.\n",
      "[I 2023-07-12 23:21:40,585] Trial 258 finished with value: 0.9174325438906563 and parameters: {'lr': 0.004185950549746827, 'weight_decay': 0.0002654959259544547, 'n_epochs': 29, 'dropout': 0.019596243353494025}. Best is trial 110 with value: 0.9174927964694666.\n",
      "[I 2023-07-12 23:21:42,144] Trial 259 finished with value: 0.8963682423385498 and parameters: {'lr': 0.0038143815199422207, 'weight_decay': 0.05806095542784955, 'n_epochs': 32, 'dropout': 0.03365695232296714}. Best is trial 110 with value: 0.9174927964694666.\n",
      "[I 2023-07-12 23:21:43,409] Trial 260 finished with value: 0.9159289073127885 and parameters: {'lr': 0.00305546650394372, 'weight_decay': 0.001952366962908915, 'n_epochs': 25, 'dropout': 0.034245375360411195}. Best is trial 110 with value: 0.9174927964694666.\n",
      "[I 2023-07-12 23:21:44,825] Trial 261 finished with value: 0.9173763081504334 and parameters: {'lr': 0.004187213661674767, 'weight_decay': 0.0001621421814607063, 'n_epochs': 29, 'dropout': 0.048744791666728675}. Best is trial 110 with value: 0.9174927964694666.\n",
      "[I 2023-07-12 23:21:46,226] Trial 262 finished with value: 0.9046322182589415 and parameters: {'lr': 0.004244617201928311, 'weight_decay': 0.023332025945435004, 'n_epochs': 28, 'dropout': 0.06042058399689584}. Best is trial 110 with value: 0.9174927964694666.\n",
      "[I 2023-07-12 23:21:47,758] Trial 263 finished with value: 0.9131934402347976 and parameters: {'lr': 0.006939061931137368, 'weight_decay': 0.004737610089000181, 'n_epochs': 29, 'dropout': 0.020790351181805986}. Best is trial 110 with value: 0.9174927964694666.\n",
      "[I 2023-07-12 23:21:49,119] Trial 264 finished with value: 0.9148791734952922 and parameters: {'lr': 0.0051390734320450136, 'weight_decay': 0.003218971977529594, 'n_epochs': 27, 'dropout': 0.010374028717446212}. Best is trial 110 with value: 0.9174927964694666.\n",
      "[I 2023-07-12 23:21:50,680] Trial 265 finished with value: 0.9172865987553156 and parameters: {'lr': 0.003524926516881284, 'weight_decay': 0.00024570513778642656, 'n_epochs': 31, 'dropout': 0.009995740472234406}. Best is trial 110 with value: 0.9174927964694666.\n",
      "[I 2023-07-12 23:21:52,137] Trial 266 finished with value: 0.9027992009169103 and parameters: {'lr': 0.0038819368835684076, 'weight_decay': 0.0288247696280562, 'n_epochs': 29, 'dropout': 0.018627563349446208}. Best is trial 110 with value: 0.9174927964694666.\n",
      "[I 2023-07-12 23:21:53,663] Trial 267 finished with value: 0.9117112267960625 and parameters: {'lr': 0.005750256273845073, 'weight_decay': 0.007258088174417351, 'n_epochs': 30, 'dropout': 0.02654205705283761}. Best is trial 110 with value: 0.9174927964694666.\n",
      "[I 2023-07-12 23:21:55,215] Trial 268 finished with value: 0.9079367374701415 and parameters: {'lr': 0.003455093873418757, 'weight_decay': 0.014460231727059276, 'n_epochs': 31, 'dropout': 0.045610316019556285}. Best is trial 110 with value: 0.9174927964694666.\n",
      "[I 2023-07-12 23:21:56,431] Trial 269 finished with value: 0.9074172263461765 and parameters: {'lr': 0.0044498645211117765, 'weight_decay': 0.015974640107676043, 'n_epochs': 24, 'dropout': 0.04107186513852974}. Best is trial 110 with value: 0.9174927964694666.\n",
      "[I 2023-07-12 23:21:57,982] Trial 270 finished with value: 0.91598246516062 and parameters: {'lr': 0.0037289052136089806, 'weight_decay': 0.002083163025262276, 'n_epochs': 31, 'dropout': 0.0031007112529710806}. Best is trial 110 with value: 0.9174927964694666.\n",
      "[I 2023-07-12 23:21:59,355] Trial 271 finished with value: 0.9122963462836209 and parameters: {'lr': 0.0004958385735567252, 'weight_decay': 0.00012976235738519184, 'n_epochs': 27, 'dropout': 0.011190741600012485}. Best is trial 110 with value: 0.9174927964694666.\n",
      "[I 2023-07-12 23:22:01,058] Trial 272 finished with value: 0.9134518568505844 and parameters: {'lr': 0.005104509409169121, 'weight_decay': 0.005295166601022087, 'n_epochs': 34, 'dropout': 0.05261004722344278}. Best is trial 110 with value: 0.9174927964694666.\n",
      "[I 2023-07-12 23:22:01,889] Trial 273 finished with value: 0.914461422282207 and parameters: {'lr': 0.0031979267844057246, 'weight_decay': 0.0033133813840327668, 'n_epochs': 16, 'dropout': 0.013509557528698974}. Best is trial 110 with value: 0.9174927964694666.\n",
      "[I 2023-07-12 23:22:03,554] Trial 274 finished with value: 0.890754040939619 and parameters: {'lr': 0.004337260420708137, 'weight_decay': 0.09924949659129072, 'n_epochs': 35, 'dropout': 0.029325632587570052}. Best is trial 110 with value: 0.9174927964694666.\n",
      "[I 2023-07-12 23:22:04,319] Trial 275 finished with value: 0.9158164358323425 and parameters: {'lr': 0.006828759553784246, 'weight_decay': 0.001822101633052892, 'n_epochs': 14, 'dropout': 0.07468479248855267}. Best is trial 110 with value: 0.9174927964694666.\n",
      "[I 2023-07-12 23:22:04,822] Trial 276 finished with value: 0.8977687800593421 and parameters: {'lr': 0.002730210902341615, 'weight_decay': 0.047039710701698025, 'n_epochs': 9, 'dropout': 0.0008213995565257686}. Best is trial 110 with value: 0.9174927964694666.\n",
      "[I 2023-07-12 23:22:06,277] Trial 277 finished with value: 0.9109393243141918 and parameters: {'lr': 0.003651078456973222, 'weight_decay': 0.00873853690142912, 'n_epochs': 30, 'dropout': 0.04841606528013268}. Best is trial 110 with value: 0.9174927964694666.\n",
      "[I 2023-07-12 23:22:07,917] Trial 278 finished with value: 0.9011389076341356 and parameters: {'lr': 0.005686874478059266, 'weight_decay': 0.03358748431436179, 'n_epochs': 33, 'dropout': 0.07861890366884977}. Best is trial 110 with value: 0.9174927964694666.\n",
      "[I 2023-07-12 23:22:08,930] Trial 279 finished with value: 0.9169197274976701 and parameters: {'lr': 0.002869107975004953, 'weight_decay': 0.00019347875210178975, 'n_epochs': 20, 'dropout': 0.22547459188730473}. Best is trial 110 with value: 0.9174927964694666.\n",
      "[I 2023-07-12 23:22:10,726] Trial 280 finished with value: 0.913803999700076 and parameters: {'lr': 0.004482047235814197, 'weight_decay': 0.004834195312021289, 'n_epochs': 36, 'dropout': 0.018123909593627148}. Best is trial 110 with value: 0.9174927964694666.\n",
      "[I 2023-07-12 23:22:12,013] Trial 281 finished with value: 0.90974833167304 and parameters: {'lr': 0.003442536228550856, 'weight_decay': 0.010639875083741725, 'n_epochs': 26, 'dropout': 0.03937731775524067}. Best is trial 110 with value: 0.9174927964694666.\n",
      "[I 2023-07-12 23:22:14,048] Trial 282 finished with value: 0.9170147926775711 and parameters: {'lr': 0.0024301670252349196, 'weight_decay': 0.00010234205710481296, 'n_epochs': 37, 'dropout': 0.0667468494824966}. Best is trial 110 with value: 0.9174927964694666.\n",
      "[I 2023-07-12 23:22:15,868] Trial 283 finished with value: 0.9152714847306577 and parameters: {'lr': 0.005012161384890787, 'weight_decay': 0.0028770621401064973, 'n_epochs': 33, 'dropout': 0.2553808670230505}. Best is trial 110 with value: 0.9174927964694666.\n",
      "[I 2023-07-12 23:22:17,481] Trial 284 finished with value: 0.9148764956029007 and parameters: {'lr': 0.008568184683508671, 'weight_decay': 0.0020233148006858705, 'n_epochs': 29, 'dropout': 0.08978282505753175}. Best is trial 110 with value: 0.9174927964694666.\n",
      "[I 2023-07-12 23:22:19,306] Trial 285 finished with value: 0.914686365243099 and parameters: {'lr': 0.004213862266511122, 'weight_decay': 0.003574110105097698, 'n_epochs': 36, 'dropout': 0.1379726691347236}. Best is trial 110 with value: 0.9174927964694666.\n",
      "[I 2023-07-12 23:22:20,846] Trial 286 finished with value: 0.9127850616450829 and parameters: {'lr': 0.0029222785917556973, 'weight_decay': 0.005689790752645187, 'n_epochs': 31, 'dropout': 0.09557327913104532}. Best is trial 110 with value: 0.9174927964694666.\n",
      "[I 2023-07-12 23:22:24,597] Trial 287 finished with value: 0.9135254988913526 and parameters: {'lr': 0.006214097948212282, 'weight_decay': 0.0001335137120650691, 'n_epochs': 77, 'dropout': 0.00764506500960449}. Best is trial 110 with value: 0.9174927964694666.\n"
     ]
    },
    {
     "name": "stderr",
     "output_type": "stream",
     "text": [
      "[I 2023-07-12 23:22:26,311] Trial 288 finished with value: 0.900905930996069 and parameters: {'lr': 0.0038144021960765163, 'weight_decay': 0.03584508786236349, 'n_epochs': 34, 'dropout': 0.025290526718790823}. Best is trial 110 with value: 0.9174927964694666.\n",
      "[I 2023-07-12 23:22:26,960] Trial 289 finished with value: 0.9140811615626037 and parameters: {'lr': 0.0020326315573774723, 'weight_decay': 0.0020403865028892115, 'n_epochs': 12, 'dropout': 0.11002516153100632}. Best is trial 110 with value: 0.9174927964694666.\n",
      "[I 2023-07-12 23:22:28,838] Trial 290 finished with value: 0.8999566181432564 and parameters: {'lr': 0.003176501803572665, 'weight_decay': 0.038989749783411756, 'n_epochs': 38, 'dropout': 0.15374095636423224}. Best is trial 110 with value: 0.9174927964694666.\n",
      "[I 2023-07-12 23:22:30,613] Trial 291 finished with value: 0.8940665938279936 and parameters: {'lr': 0.0050243784073373465, 'weight_decay': 0.07219215261823177, 'n_epochs': 36, 'dropout': 0.05749968169700141}. Best is trial 110 with value: 0.9174927964694666.\n",
      "[I 2023-07-12 23:22:32,223] Trial 292 finished with value: 0.9144667780669901 and parameters: {'lr': 0.00417909212638418, 'weight_decay': 0.0039002348385380517, 'n_epochs': 32, 'dropout': 0.08337289830863134}. Best is trial 110 with value: 0.9174927964694666.\n",
      "[I 2023-07-12 23:22:33,907] Trial 293 finished with value: 0.8962463982347333 and parameters: {'lr': 0.013003255397337475, 'weight_decay': 0.037249572444295984, 'n_epochs': 34, 'dropout': 0.09716015261283356}. Best is trial 110 with value: 0.9174927964694666.\n",
      "[I 2023-07-12 23:22:34,878] Trial 294 finished with value: 0.8991545893719808 and parameters: {'lr': 0.002621806995467652, 'weight_decay': 0.04016868275593335, 'n_epochs': 17, 'dropout': 0.11263118658911896}. Best is trial 110 with value: 0.9174927964694666.\n",
      "[I 2023-07-12 23:22:36,803] Trial 295 finished with value: 0.8979147251946829 and parameters: {'lr': 0.003503935245828224, 'weight_decay': 0.04946239652855131, 'n_epochs': 39, 'dropout': 0.07167070753519017}. Best is trial 110 with value: 0.9174927964694666.\n",
      "[I 2023-07-12 23:22:38,227] Trial 296 finished with value: 0.9114956564585409 and parameters: {'lr': 0.006972369308948655, 'weight_decay': 0.006876838361908777, 'n_epochs': 28, 'dropout': 0.131168468566002}. Best is trial 110 with value: 0.9174927964694666.\n",
      "[I 2023-07-12 23:22:39,984] Trial 297 finished with value: 0.9161752734128132 and parameters: {'lr': 0.005451048488068472, 'weight_decay': 0.0018387378203789323, 'n_epochs': 36, 'dropout': 0.19282659691786153}. Best is trial 110 with value: 0.9174927964694666.\n",
      "[I 2023-07-12 23:22:41,496] Trial 298 finished with value: 0.9030415501783475 and parameters: {'lr': 0.0022380476511250896, 'weight_decay': 0.025843982813961257, 'n_epochs': 31, 'dropout': 0.1635848455627019}. Best is trial 110 with value: 0.9174927964694666.\n",
      "[I 2023-07-12 23:22:43,324] Trial 299 finished with value: 0.8958340028064312 and parameters: {'lr': 0.004573291766129791, 'weight_decay': 0.06194717366953061, 'n_epochs': 37, 'dropout': 0.14397581188042335}. Best is trial 110 with value: 0.9174927964694666.\n",
      "[I 2023-07-12 23:22:45,225] Trial 300 finished with value: 0.9092234647642918 and parameters: {'lr': 0.0030693760888347646, 'weight_decay': 0.011490497181101672, 'n_epochs': 40, 'dropout': 0.2895232886347393}. Best is trial 110 with value: 0.9174927964694666.\n",
      "[I 2023-07-12 23:22:46,908] Trial 301 finished with value: 0.9017534839380014 and parameters: {'lr': 0.003784190465382575, 'weight_decay': 0.032580028746716866, 'n_epochs': 34, 'dropout': 0.23833726811612344}. Best is trial 110 with value: 0.9174927964694666.\n",
      "[I 2023-07-12 23:22:48,492] Trial 302 finished with value: 0.9159382799361591 and parameters: {'lr': 0.002738116151895106, 'weight_decay': 0.0019302034551334692, 'n_epochs': 32, 'dropout': 0.09027863404542137}. Best is trial 110 with value: 0.9174927964694666.\n",
      "[I 2023-07-12 23:22:50,381] Trial 303 finished with value: 0.9135295157299399 and parameters: {'lr': 0.005811714270035016, 'weight_decay': 0.004840825051274921, 'n_epochs': 38, 'dropout': 0.1773909899265672}. Best is trial 110 with value: 0.9174927964694666.\n",
      "[I 2023-07-12 23:22:51,641] Trial 304 finished with value: 0.9162047302291204 and parameters: {'lr': 0.004296903202518603, 'weight_decay': 0.0019643598498654594, 'n_epochs': 25, 'dropout': 0.1023240226015757}. Best is trial 110 with value: 0.9174927964694666.\n",
      "[I 2023-07-12 23:22:53,364] Trial 305 finished with value: 0.9134264168728644 and parameters: {'lr': 0.016320095272950905, 'weight_decay': 0.00032620566839281395, 'n_epochs': 35, 'dropout': 0.11270440517568253}. Best is trial 110 with value: 0.9174927964694666.\n",
      "[I 2023-07-12 23:22:54,778] Trial 306 finished with value: 0.9142860203305588 and parameters: {'lr': 0.0034067392033864897, 'weight_decay': 0.003964627892466809, 'n_epochs': 29, 'dropout': 0.12464871885177368}. Best is trial 110 with value: 0.9174927964694666.\n",
      "[I 2023-07-12 23:22:57,472] Trial 307 finished with value: 0.9162341870454278 and parameters: {'lr': 0.004904740684564077, 'weight_decay': 0.00021063017727623808, 'n_epochs': 56, 'dropout': 0.040814558203263726}. Best is trial 110 with value: 0.9174927964694666.\n",
      "[I 2023-07-12 23:22:59,516] Trial 308 finished with value: 0.9144774896365564 and parameters: {'lr': 0.0023700164597066473, 'weight_decay': 0.0034153009301975392, 'n_epochs': 42, 'dropout': 0.09429887032525136}. Best is trial 110 with value: 0.9174927964694666.\n",
      "[I 2023-07-12 23:23:04,154] Trial 309 finished with value: 0.9083317265978985 and parameters: {'lr': 0.0018003150307036877, 'weight_decay': 0.012849208784871217, 'n_epochs': 99, 'dropout': 0.07871894814427607}. Best is trial 110 with value: 0.9174927964694666.\n",
      "[I 2023-07-12 23:23:05,793] Trial 310 finished with value: 0.9060515012264747 and parameters: {'lr': 0.0007472997780696802, 'weight_decay': 0.017310273225579972, 'n_epochs': 33, 'dropout': 0.028737218226172465}. Best is trial 110 with value: 0.9174927964694666.\n",
      "[I 2023-07-12 23:23:07,734] Trial 311 finished with value: 0.9124101567102628 and parameters: {'lr': 0.003704040067220503, 'weight_decay': 0.006535430279166563, 'n_epochs': 40, 'dropout': 0.10683493391082627}. Best is trial 110 with value: 0.9174927964694666.\n",
      "[I 2023-07-12 23:23:09,473] Trial 312 finished with value: 0.9022636224385959 and parameters: {'lr': 0.002896462422330093, 'weight_decay': 0.029489630733296475, 'n_epochs': 36, 'dropout': 0.12221940190134009}. Best is trial 110 with value: 0.9174927964694666.\n",
      "[I 2023-07-12 23:23:10,164] Trial 313 finished with value: 0.9170643336868152 and parameters: {'lr': 0.006692715627601801, 'weight_decay': 0.00017205593506609102, 'n_epochs': 13, 'dropout': 0.13362164972878554}. Best is trial 110 with value: 0.9174927964694666.\n",
      "[I 2023-07-12 23:23:11,654] Trial 314 finished with value: 0.9156691517508062 and parameters: {'lr': 0.0065763635703755185, 'weight_decay': 0.002046804735997848, 'n_epochs': 30, 'dropout': 0.1429650723190094}. Best is trial 110 with value: 0.9174927964694666.\n",
      "[I 2023-07-12 23:23:12,437] Trial 315 finished with value: 0.91329118330709 and parameters: {'lr': 0.00877821706115406, 'weight_decay': 0.003613847833949232, 'n_epochs': 15, 'dropout': 9.544770461547211e-05}. Best is trial 110 with value: 0.9174927964694666.\n",
      "[I 2023-07-12 23:23:12,848] Trial 316 finished with value: 0.9022663003309874 and parameters: {'lr': 0.00794133265647277, 'weight_decay': 0.0242397260951962, 'n_epochs': 7, 'dropout': 0.13846422850459603}. Best is trial 110 with value: 0.9174927964694666.\n",
      "[I 2023-07-12 23:23:13,556] Trial 317 finished with value: 0.9055534132416424 and parameters: {'lr': 0.006012475529437697, 'weight_decay': 0.019089741138826603, 'n_epochs': 13, 'dropout': 0.15261941217982344}. Best is trial 110 with value: 0.9174927964694666.\n",
      "[I 2023-07-12 23:23:14,154] Trial 318 finished with value: 0.9161779513052049 and parameters: {'lr': 0.009491626146856984, 'weight_decay': 0.00010547066181553303, 'n_epochs': 11, 'dropout': 0.1325847648394734}. Best is trial 110 with value: 0.9174927964694666.\n",
      "[I 2023-07-12 23:23:14,845] Trial 319 finished with value: 0.9108543012307593 and parameters: {'lr': 0.005051650515175619, 'weight_decay': 0.00875451497706869, 'n_epochs': 13, 'dropout': 0.01825822684829721}. Best is trial 110 with value: 0.9174927964694666.\n"
     ]
    },
    {
     "name": "stderr",
     "output_type": "stream",
     "text": [
      "[I 2023-07-12 23:23:15,663] Trial 320 finished with value: 0.8775118630632948 and parameters: {'lr': 0.08347872187378952, 'weight_decay': 0.04249482820667297, 'n_epochs': 16, 'dropout': 0.05427431168198294}. Best is trial 110 with value: 0.9174927964694666.\n",
      "[I 2023-07-12 23:23:16,646] Trial 321 finished with value: 0.9141561425495678 and parameters: {'lr': 0.010680580594041365, 'weight_decay': 0.0021977382091832014, 'n_epochs': 19, 'dropout': 0.16883480382542676}. Best is trial 110 with value: 0.9174927964694666.\n",
      "[I 2023-07-12 23:23:18,238] Trial 322 finished with value: 0.9123940893559133 and parameters: {'lr': 0.0009006358907576287, 'weight_decay': 0.0055032497421734486, 'n_epochs': 32, 'dropout': 0.1282789056589913}. Best is trial 110 with value: 0.9174927964694666.\n",
      "[I 2023-07-12 23:23:19,665] Trial 323 finished with value: 0.9162328480992321 and parameters: {'lr': 0.0043534016371008484, 'weight_decay': 0.001929322939806396, 'n_epochs': 28, 'dropout': 0.1180122182873041}. Best is trial 110 with value: 0.9174927964694666.\n",
      "[I 2023-07-12 23:23:21,347] Trial 324 finished with value: 0.9159784483220327 and parameters: {'lr': 0.006706055594182423, 'weight_decay': 0.00015288068431201887, 'n_epochs': 34, 'dropout': 0.06763693847202285}. Best is trial 110 with value: 0.9174927964694666.\n",
      "[I 2023-07-12 23:23:23,254] Trial 325 finished with value: 0.9142619192990349 and parameters: {'lr': 0.005363439577009884, 'weight_decay': 0.004118838543261031, 'n_epochs': 38, 'dropout': 0.11111947782849607}. Best is trial 110 with value: 0.9174927964694666.\n",
      "[I 2023-07-12 23:23:24,183] Trial 326 finished with value: 0.9050044453013699 and parameters: {'lr': 0.0003275959383332905, 'weight_decay': 0.00196133333707693, 'n_epochs': 18, 'dropout': 0.08905962455448872}. Best is trial 110 with value: 0.9174927964694666.\n",
      "[I 2023-07-12 23:23:25,399] Trial 327 finished with value: 0.8978129652838029 and parameters: {'lr': 0.003977125950894558, 'weight_decay': 0.050608532012907104, 'n_epochs': 23, 'dropout': 0.21819236064384195}. Best is trial 110 with value: 0.9174927964694666.\n",
      "[I 2023-07-12 23:23:25,975] Trial 328 finished with value: 0.9016102166950524 and parameters: {'lr': 0.0032902644609684186, 'weight_decay': 0.031461788253690004, 'n_epochs': 10, 'dropout': 0.2046732214555976}. Best is trial 110 with value: 0.9174927964694666.\n",
      "[I 2023-07-12 23:23:27,293] Trial 329 finished with value: 0.8743559668798269 and parameters: {'lr': 3.722795190635389e-05, 'weight_decay': 0.0069840296910622145, 'n_epochs': 26, 'dropout': 0.13246121729364296}. Best is trial 110 with value: 0.9174927964694666.\n",
      "[I 2023-07-12 23:23:28,041] Trial 330 finished with value: 0.9050526473644183 and parameters: {'lr': 0.004469533475596843, 'weight_decay': 0.021662524538033547, 'n_epochs': 14, 'dropout': 0.0834624994204255}. Best is trial 110 with value: 0.9174927964694666.\n",
      "[I 2023-07-12 23:23:30,064] Trial 331 finished with value: 0.9142739698147969 and parameters: {'lr': 0.0021097747082545245, 'weight_decay': 0.0037011775510252913, 'n_epochs': 41, 'dropout': 0.10223867658903898}. Best is trial 110 with value: 0.9174927964694666.\n",
      "[I 2023-07-12 23:23:31,605] Trial 332 finished with value: 0.9173267671411891 and parameters: {'lr': 0.003630681158052966, 'weight_decay': 0.00017857672560028326, 'n_epochs': 31, 'dropout': 0.1560175904939612}. Best is trial 110 with value: 0.9174927964694666.\n",
      "[I 2023-07-12 23:23:33,167] Trial 333 finished with value: 0.9162047302291205 and parameters: {'lr': 0.003811711503739563, 'weight_decay': 0.0018579346835425224, 'n_epochs': 30, 'dropout': 0.1930414301800415}. Best is trial 110 with value: 0.9174927964694666.\n",
      "[I 2023-07-12 23:23:34,794] Trial 334 finished with value: 0.9135067536446115 and parameters: {'lr': 0.005374245364587774, 'weight_decay': 0.005051517274277117, 'n_epochs': 30, 'dropout': 0.15461213864226925}. Best is trial 110 with value: 0.9174927964694666.\n",
      "[I 2023-07-12 23:23:36,403] Trial 335 finished with value: 0.8973456730614736 and parameters: {'lr': 0.004648138401582378, 'weight_decay': 0.052757933055469455, 'n_epochs': 33, 'dropout': 0.14453414676324805}. Best is trial 110 with value: 0.9174927964694666.\n",
      "[I 2023-07-12 23:23:38,005] Trial 336 finished with value: 0.8950868708291826 and parameters: {'lr': 0.003485196184849097, 'weight_decay': 0.06495213516866473, 'n_epochs': 32, 'dropout': 0.12274202234421092}. Best is trial 110 with value: 0.9174927964694666.\n",
      "[I 2023-07-12 23:23:39,378] Trial 337 finished with value: 0.9149394260741026 and parameters: {'lr': 0.008006237154277512, 'weight_decay': 0.002158490454338099, 'n_epochs': 27, 'dropout': 0.16474013965668147}. Best is trial 110 with value: 0.9174927964694666.\n",
      "[I 2023-07-12 23:23:41,146] Trial 338 finished with value: 0.916364064826419 and parameters: {'lr': 0.0010928424640237468, 'weight_decay': 0.00023446437962263317, 'n_epochs': 35, 'dropout': 0.1760554598064044}. Best is trial 110 with value: 0.9174927964694666.\n",
      "[I 2023-07-12 23:23:42,719] Trial 339 finished with value: 0.9025113274848162 and parameters: {'lr': 0.006521182736361817, 'weight_decay': 0.026520289847818002, 'n_epochs': 31, 'dropout': 0.14564605568279312}. Best is trial 110 with value: 0.9174927964694666.\n",
      "[I 2023-07-12 23:23:44,294] Trial 340 finished with value: 0.9147064494360359 and parameters: {'lr': 0.004130795756178356, 'weight_decay': 0.003556118862277244, 'n_epochs': 29, 'dropout': 0.1594518980003204}. Best is trial 110 with value: 0.9174927964694666.\n",
      "[I 2023-07-12 23:23:46,117] Trial 341 finished with value: 0.9159396188823548 and parameters: {'lr': 0.0030155586002512057, 'weight_decay': 0.0020252906688970054, 'n_epochs': 34, 'dropout': 0.047879493451350674}. Best is trial 110 with value: 0.9174927964694666.\n",
      "[I 2023-07-12 23:23:47,936] Trial 342 finished with value: 0.9168675085960345 and parameters: {'lr': 0.005143617076197689, 'weight_decay': 0.00017580851634037953, 'n_epochs': 37, 'dropout': 0.013510431261041823}. Best is trial 110 with value: 0.9174927964694666.\n",
      "[I 2023-07-12 23:23:49,548] Trial 343 finished with value: 0.9132978780380688 and parameters: {'lr': 0.00385136217192551, 'weight_decay': 0.005436102566076877, 'n_epochs': 32, 'dropout': 0.13433624831636318}. Best is trial 110 with value: 0.9174927964694666.\n",
      "[I 2023-07-12 23:23:50,413] Trial 344 finished with value: 0.9025287337853616 and parameters: {'lr': 0.0026009262681783545, 'weight_decay': 0.027722751089475015, 'n_epochs': 16, 'dropout': 0.11512949619806037}. Best is trial 110 with value: 0.9174927964694666.\n",
      "[I 2023-07-12 23:23:51,502] Trial 345 finished with value: 0.9047848581252611 and parameters: {'lr': 0.0033493447800106643, 'weight_decay': 0.022296554835961834, 'n_epochs': 21, 'dropout': 0.036962327459554245}. Best is trial 110 with value: 0.9174927964694666.\n"
     ]
    },
    {
     "name": "stdout",
     "output_type": "stream",
     "text": [
      "Number of finished trials: 346\n",
      "Best trial:\n",
      "  Value: 0.9174927964694666\n",
      "  Params: \n",
      "    lr: 0.00474862162112576\n",
      "    weight_decay: 0.00013474112454822288\n",
      "    n_epochs: 15\n",
      "    dropout: 0.09250765766039594\n"
     ]
    }
   ],
   "source": [
    "if __name__ == \"__main__\":\n",
    "    study = optuna.create_study(direction=\"maximize\")\n",
    "    study.optimize(objective, n_trials=500, timeout=600)\n",
    "\n",
    "    print(\"Number of finished trials: {}\".format(len(study.trials)))\n",
    "\n",
    "    print(\"Best trial:\")\n",
    "    trial = study.best_trial\n",
    "\n",
    "    print(\"  Value: {}\".format(trial.value))\n",
    "\n",
    "    print(\"  Params: \")\n",
    "    for key, value in trial.params.items():\n",
    "        print(\"    {}: {}\".format(key, value))"
   ]
  },
  {
   "cell_type": "code",
   "execution_count": 30,
   "id": "4c876587",
   "metadata": {},
   "outputs": [],
   "source": [
    "nn = Classifier(lr=.00474862162112576, weight_decay=.00013474112454822288, n_epochs=15, dropout=.42, hidden_size=512, device=\"cpu\")"
   ]
  },
  {
   "cell_type": "code",
   "execution_count": 31,
   "id": "0bd8b02f",
   "metadata": {},
   "outputs": [],
   "source": [
    "nn.fit(train)"
   ]
  },
  {
   "cell_type": "code",
   "execution_count": 32,
   "id": "816b6ba1",
   "metadata": {},
   "outputs": [
    {
     "data": {
      "text/plain": [
       "0.917597234272738"
      ]
     },
     "execution_count": 32,
     "metadata": {},
     "output_type": "execute_result"
    }
   ],
   "source": [
    "pred_p=nn.predict(X_test)\n",
    "roc_auc_score(y_test, pred_p)"
   ]
  },
  {
   "cell_type": "code",
   "execution_count": 33,
   "id": "8a7e26fe",
   "metadata": {},
   "outputs": [
    {
     "data": {
      "text/plain": [
       "<Axes: ylabel='Count'>"
      ]
     },
     "execution_count": 33,
     "metadata": {},
     "output_type": "execute_result"
    },
    {
     "data": {
      "image/png": "[encoded data removed]",
      "text/plain": [
       "<Figure size 500x500 with 1 Axes>"
      ]
     },
     "metadata": {},
     "output_type": "display_data"
    }
   ],
   "source": [
    "plt.figure(figsize=(5,5))\n",
    "sns.histplot(x=pred_p, hue=y_test)"
   ]
  },
  {
   "cell_type": "code",
   "execution_count": 183,
   "id": "1fd0c39f",
   "metadata": {},
   "outputs": [
    {
     "data": {
      "text/plain": [
       "<Axes: ylabel='Count'>"
      ]
     },
     "execution_count": 183,
     "metadata": {},
     "output_type": "execute_result"
    },
    {
     "data": {
      "image/png": "[encoded data removed]",
      "text/plain": [
       "<Figure size 500x500 with 1 Axes>"
      ]
     },
     "metadata": {},
     "output_type": "display_data"
    }
   ],
   "source": [
    "plt.figure(figsize=(5,5))\n",
    "sns.histplot(x=y_proba, hue=y_test)"
   ]
  },
  {
   "cell_type": "code",
   "execution_count": 75,
   "id": "3eae4efe",
   "metadata": {},
   "outputs": [],
   "source": [
    "class CustomBertModel(torch.nn.Module):\n",
    "    def __init__(self, bert_model):\n",
    "        super().__init__()\n",
    "        self.bert_model=bert_model\n",
    "        self.l1=torch.nn.Linear(768,324)\n",
    "        self.l2=torch.nn.Linear(324, 1)\n",
    "        self.relu=torch.nn.ReLU()\n",
    "    def forward(self, input_ids, attention_mask=None):\n",
    "        embeddings=self.bert_model(input_ids, attention_mask=attention_mask)\n",
    "        outputs=self.l1(embeddings[\"last_hidden_state\"][:,0,:])\n",
    "        outputs=self.relu(outputs)\n",
    "        outputs=self.l2(outputs)\n",
    "        return outputs"
   ]
  },
  {
   "cell_type": "code",
   "execution_count": 64,
   "id": "5ad9c9f9",
   "metadata": {},
   "outputs": [
    {
     "data": {
      "text/plain": [
       "CustomBertModel(\n",
       "  (bert_model): DistilBertModel(\n",
       "    (embeddings): Embeddings(\n",
       "      (word_embeddings): Embedding(30522, 768, padding_idx=0)\n",
       "      (position_embeddings): Embedding(512, 768)\n",
       "      (LayerNorm): LayerNorm((768,), eps=1e-12, elementwise_affine=True)\n",
       "      (dropout): Dropout(p=0.1, inplace=False)\n",
       "    )\n",
       "    (transformer): Transformer(\n",
       "      (layer): ModuleList(\n",
       "        (0-5): 6 x TransformerBlock(\n",
       "          (attention): MultiHeadSelfAttention(\n",
       "            (dropout): Dropout(p=0.1, inplace=False)\n",
       "            (q_lin): Linear(in_features=768, out_features=768, bias=True)\n",
       "            (k_lin): Linear(in_features=768, out_features=768, bias=True)\n",
       "            (v_lin): Linear(in_features=768, out_features=768, bias=True)\n",
       "            (out_lin): Linear(in_features=768, out_features=768, bias=True)\n",
       "          )\n",
       "          (sa_layer_norm): LayerNorm((768,), eps=1e-12, elementwise_affine=True)\n",
       "          (ffn): FFN(\n",
       "            (dropout): Dropout(p=0.1, inplace=False)\n",
       "            (lin1): Linear(in_features=768, out_features=3072, bias=True)\n",
       "            (lin2): Linear(in_features=3072, out_features=768, bias=True)\n",
       "            (activation): GELUActivation()\n",
       "          )\n",
       "          (output_layer_norm): LayerNorm((768,), eps=1e-12, elementwise_affine=True)\n",
       "        )\n",
       "      )\n",
       "    )\n",
       "  )\n",
       "  (l1): Linear(in_features=768, out_features=324, bias=True)\n",
       "  (l2): Linear(in_features=324, out_features=1, bias=True)\n",
       "  (relu): ReLU()\n",
       ")"
      ]
     },
     "execution_count": 64,
     "metadata": {},
     "output_type": "execute_result"
    }
   ],
   "source": [
    "mm=CustomBertModel(model)\n",
    "mm.to(device)"
   ]
  },
  {
   "cell_type": "code",
   "execution_count": 76,
   "id": "7de4fdfd",
   "metadata": {},
   "outputs": [],
   "source": [
    "opt=torch.optim.Adam(mm.parameters(), lr=1e-4)\n",
    "criterion=torch.nn.BCELoss()"
   ]
  },
  {
   "cell_type": "code",
   "execution_count": 78,
   "id": "390b8973",
   "metadata": {},
   "outputs": [],
   "source": [
    "EPOCHS=3"
   ]
  },
  {
   "cell_type": "code",
   "execution_count": 80,
   "id": "0c069bd7",
   "metadata": {},
   "outputs": [
    {
     "data": {
      "text/plain": [
       "[tensor([[  101,  1037, 18385,  ...,     0,     0,     0],\n",
       "         [  101,  2023,  2003,  ...,     0,     0,     0],\n",
       "         [  101,  5655,  6262,  ...,     0,     0,     0],\n",
       "         ...,\n",
       "         [  101,  2009,  2038,  ...,     0,     0,     0],\n",
       "         [  101,  6320, 25624,  ...,     0,     0,     0],\n",
       "         [  101,  2009,  1005,  ...,     0,     0,     0]]),\n",
       " tensor([[1, 1, 1,  ..., 0, 0, 0],\n",
       "         [1, 1, 1,  ..., 0, 0, 0],\n",
       "         [1, 1, 1,  ..., 0, 0, 0],\n",
       "         ...,\n",
       "         [1, 1, 1,  ..., 0, 0, 0],\n",
       "         [1, 1, 1,  ..., 0, 0, 0],\n",
       "         [1, 1, 1,  ..., 0, 0, 0]]),\n",
       " [tensor([1, 1, 1, 1, 1, 1, 1, 1, 1, 1, 1, 1, 1, 1, 1, 1, 1, 1, 1, 1, 1, 1, 1, 1,\n",
       "          1, 1, 1, 1, 1, 1, 1, 1, 1, 1, 1, 1, 1, 1, 1, 1, 1, 1, 1, 1, 1, 1, 1, 1,\n",
       "          1, 1, 1, 1, 1, 1, 1, 1, 1, 1, 1, 1, 1, 1, 1, 1])]]"
      ]
     },
     "execution_count": 80,
     "metadata": {},
     "output_type": "execute_result"
    }
   ],
   "source": [
    "next(iter(dataloader))"
   ]
  },
  {
   "cell_type": "code",
   "execution_count": 88,
   "id": "500f731b",
   "metadata": {},
   "outputs": [
    {
     "name": "stdout",
     "output_type": "stream",
     "text": [
      "tensor([[  101,  1037, 18385,  ...,     0,     0,     0],\n",
      "        [  101,  2023,  2003,  ...,     0,     0,     0],\n",
      "        [  101,  5655,  6262,  ...,     0,     0,     0],\n",
      "        ...,\n",
      "        [  101,  2009,  2038,  ...,     0,     0,     0],\n",
      "        [  101,  6320, 25624,  ...,     0,     0,     0],\n",
      "        [  101,  2009,  1005,  ...,     0,     0,     0]], device='cuda:0')\n"
     ]
    },
    {
     "ename": "TypeError",
     "evalue": "expected TensorOptions(dtype=int, device=cpu, layout=Strided, requires_grad=false (default), pinned_memory=false (default), memory_format=(nullopt)) (got TensorOptions(dtype=long int, device=cpu, layout=Strided, requires_grad=false (default), pinned_memory=false (default), memory_format=(nullopt)))",
     "output_type": "error",
     "traceback": [
      "\u001b[0;31m---------------------------------------------------------------------------\u001b[0m",
      "\u001b[0;31mTypeError\u001b[0m                                 Traceback (most recent call last)",
      "Cell \u001b[0;32mIn[88], line 9\u001b[0m\n\u001b[1;32m      7\u001b[0m \u001b[38;5;28mprint\u001b[39m(input_ids)\n\u001b[1;32m      8\u001b[0m attention_mask\u001b[38;5;241m=\u001b[39mattention_mask\u001b[38;5;241m.\u001b[39mto(device)\n\u001b[0;32m----> 9\u001b[0m labels \u001b[38;5;241m=\u001b[39m \u001b[43mtorch\u001b[49m\u001b[38;5;241;43m.\u001b[39;49m\u001b[43mIntTensor\u001b[49m\u001b[43m(\u001b[49m\u001b[43mlabels\u001b[49m\u001b[43m[\u001b[49m\u001b[38;5;241;43m0\u001b[39;49m\u001b[43m]\u001b[49m\u001b[38;5;241;43m.\u001b[39;49m\u001b[43mreshape\u001b[49m\u001b[43m(\u001b[49m\u001b[38;5;241;43m64\u001b[39;49m\u001b[43m,\u001b[49m\u001b[38;5;241;43m1\u001b[39;49m\u001b[43m)\u001b[49m\u001b[43m)\u001b[49m\u001b[38;5;241m.\u001b[39mto(device)\n\u001b[1;32m     10\u001b[0m outputs\u001b[38;5;241m=\u001b[39mmm(input_ids, attention_mask\u001b[38;5;241m=\u001b[39mattention_mask)\n\u001b[1;32m     11\u001b[0m loss\u001b[38;5;241m=\u001b[39mcriterion(outputs, labels)\n",
      "\u001b[0;31mTypeError\u001b[0m: expected TensorOptions(dtype=int, device=cpu, layout=Strided, requires_grad=false (default), pinned_memory=false (default), memory_format=(nullopt)) (got TensorOptions(dtype=long int, device=cpu, layout=Strided, requires_grad=false (default), pinned_memory=false (default), memory_format=(nullopt)))"
     ]
    }
   ],
   "source": [
    "losses=[]\n",
    "for epoch in range(EPOCHS):\n",
    "    model.train()\n",
    "    for batch in dataloader:\n",
    "        input_ids, attention_mask, labels = batch\n",
    "        input_ids = input_ids.to(device)\n",
    "        print(input_ids)\n",
    "        attention_mask=attention_mask.to(device)\n",
    "        labels = torch.IntTensor(labels[0].reshape(64,1)).to(device)\n",
    "        outputs=mm(input_ids, attention_mask=attention_mask)\n",
    "        loss=criterion(outputs, labels)\n",
    "        losses.append(loss.mean())\n",
    "        opt.zero_grad()\n",
    "        loss.backward()"
   ]
  },
  {
   "cell_type": "code",
   "execution_count": 150,
   "id": "4a3c6a48",
   "metadata": {},
   "outputs": [
    {
     "data": {
      "text/plain": [
       "DistilBertModel(\n",
       "  (embeddings): Embeddings(\n",
       "    (word_embeddings): Embedding(30522, 768, padding_idx=0)\n",
       "    (position_embeddings): Embedding(512, 768)\n",
       "    (LayerNorm): LayerNorm((768,), eps=1e-12, elementwise_affine=True)\n",
       "    (dropout): Dropout(p=0.1, inplace=False)\n",
       "  )\n",
       "  (transformer): Transformer(\n",
       "    (layer): ModuleList(\n",
       "      (0-5): 6 x TransformerBlock(\n",
       "        (attention): MultiHeadSelfAttention(\n",
       "          (dropout): Dropout(p=0.1, inplace=False)\n",
       "          (q_lin): Linear(in_features=768, out_features=768, bias=True)\n",
       "          (k_lin): Linear(in_features=768, out_features=768, bias=True)\n",
       "          (v_lin): Linear(in_features=768, out_features=768, bias=True)\n",
       "          (out_lin): Linear(in_features=768, out_features=768, bias=True)\n",
       "        )\n",
       "        (sa_layer_norm): LayerNorm((768,), eps=1e-12, elementwise_affine=True)\n",
       "        (ffn): FFN(\n",
       "          (dropout): Dropout(p=0.1, inplace=False)\n",
       "          (lin1): Linear(in_features=768, out_features=3072, bias=True)\n",
       "          (lin2): Linear(in_features=3072, out_features=768, bias=True)\n",
       "          (activation): GELUActivation()\n",
       "        )\n",
       "        (output_layer_norm): LayerNorm((768,), eps=1e-12, elementwise_affine=True)\n",
       "      )\n",
       "    )\n",
       "  )\n",
       ")"
      ]
     },
     "execution_count": 150,
     "metadata": {},
     "output_type": "execute_result"
    }
   ],
   "source": [
    "model"
   ]
  },
  {
   "cell_type": "code",
   "execution_count": null,
   "id": "0d200cc4",
   "metadata": {},
   "outputs": [],
   "source": []
  },
  {
   "cell_type": "code",
   "execution_count": 149,
   "id": "4ea82b99",
   "metadata": {},
   "outputs": [
    {
     "data": {
      "text/plain": [
       "'last_hidden_state'"
      ]
     },
     "execution_count": 149,
     "metadata": {},
     "output_type": "execute_result"
    }
   ],
   "source": [
    "embeddings[0]t"
   ]
  }
 ],
 "metadata": {
  "kernelspec": {
   "display_name": "Python 3 (ipykernel)",
   "language": "python",
   "name": "python3"
  },
  "language_info": {
   "codemirror_mode": {
    "name": "ipython",
    "version": 3
   },
   "file_extension": ".py",
   "mimetype": "text/x-python",
   "name": "python",
   "nbconvert_exporter": "python",
   "pygments_lexer": "ipython3",
   "version": "3.8.10"
  }
 },
 "nbformat": 4,
 "nbformat_minor": 5
}
